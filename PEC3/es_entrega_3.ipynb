{
 "cells": [
  {
   "cell_type": "markdown",
   "metadata": {},
   "source": [
    "# Programación para la Bioinformática"
   ]
  },
  {
   "cell_type": "markdown",
   "metadata": {},
   "source": [
    "## Unidad 3: Conceptos avanzados de Python"
   ]
  },
  {
   "cell_type": "markdown",
   "metadata": {},
   "source": [
    "Ejercicios y preguntas teóricas\n",
    "-------------------------------\n",
    "\n",
    "A continuación, encontraréis la parte que tenéis que completar en este modulo y las preguntas teóricas a contestar."
   ]
  },
  {
   "cell_type": "markdown",
   "metadata": {},
   "source": [
    "### Ejercicio 1\n",
    "\n",
    "Completa el código necesario para: \n",
    "\n",
    "* Calcular el número de palabras\n",
    "* Calcular el número de espacios de un texto\n",
    "* Calcula el número de letras 'd' o 'D' que aparecen\n",
    "\n",
    "Ten en cuenta lo siguiente:\n",
    "\n",
    "* **El número de espacios no tiene que ser necesariamente función del número de palabras**\n",
    "* **Entre una línea y la siguiente de texto, justo después del carácter '\\' hay un gran número de espacios**\n",
    "* **Hay que contar el número de letras 'd', indistintamente de si son mayúsculas o minúsculas**\n"
   ]
  },
  {
   "cell_type": "code",
   "execution_count": 3,
   "metadata": {},
   "outputs": [
    {
     "name": "stdout",
     "output_type": "stream",
     "text": [
      "El número de palabras es de 59\n",
      "El número de espacios es de 74\n",
      "El número de letras 'd' es de 10\n",
      "\n",
      "El número de palabras es de 21\n",
      "El número de espacios es de 33\n",
      "El número de letras 'd' es de 2\n"
     ]
    }
   ],
   "source": [
    "texto1 = \"There was no reason to believe that a young black boy at this time, \\\n",
    "    in this place, could in any way alter history. After all, South Africa was \\\n",
    "    then less than a decade removed from full British control. Already, laws \\\n",
    "    were being codified to implement racial segregation and subjugation, \\\n",
    "    the network of laws that would be known as apartheid\"\n",
    "\n",
    "texto2 = \"Repugnant is a creature who would squander the ability to lift \\\n",
    "             an eye to heaven, conscious of his fleeting time here.\"\n",
    "\n",
    "def contar_palabras(texto):\n",
    "     \n",
    "    num_palabras = 0    #creo un contador y lo igualo a 0, para que en cada vuelta vaya añadiendo\n",
    "    list_texto = texto.split()  #convierto el string en lista\n",
    "    for i in list_texto:   #itero por cada elemento y voy sumando al contador\n",
    "        num_palabras = num_palabras + 1\n",
    "      \n",
    "    return num_palabras\n",
    "\n",
    "def contar_espacios(texto):\n",
    "    \n",
    "    num_espacios = 0\n",
    "    for i in texto:    #funciona como la función anterior, pero con una condicion de que si el elemento es igual a un espacio\n",
    "        if i == \" \":   #entonces añade +1 al contador\n",
    "            num_espacios = num_espacios + 1\n",
    "    \n",
    "    return num_espacios\n",
    "\n",
    "\n",
    "def contar_letras(texto, letra='d'):\n",
    "    \n",
    "    num_letras = 0\n",
    "    for i in texto.lower():   #funciona como la función anterior, pero en este caso la condicion es que sea igual a \"d\"\n",
    "        if i == \"d\":\n",
    "            num_letras = num_letras + 1\n",
    "    \n",
    "    return num_letras\n",
    "\n",
    "\n",
    "# Utilizamos la funciones para el texto1:\n",
    "num_palabras = contar_palabras(texto1)\n",
    "num_espacios = contar_espacios(texto1)\n",
    "num_letras = contar_letras(texto1)\n",
    "print(\"El número de palabras es de %d\" % num_palabras)\n",
    "print(\"El número de espacios es de %d\" % num_espacios)\n",
    "print(\"El número de letras 'd' es de %d\" % num_letras)\n",
    "\n",
    "print()\n",
    "\n",
    "# Y también para el texto2:\n",
    "num_palabras = contar_palabras(texto2)\n",
    "num_espacios = contar_espacios(texto2)\n",
    "num_letras = contar_letras(texto2)\n",
    "print(\"El número de palabras es de %d\" % num_palabras)\n",
    "print(\"El número de espacios es de %d\" % num_espacios)\n",
    "print(\"El número de letras 'd' es de %d\" % num_letras)"
   ]
  },
  {
   "cell_type": "markdown",
   "metadata": {},
   "source": [
    "### Ejercicio 2\n",
    "\n",
    "Completad las siguientes funciones matemáticas y documentad el código también de cada función. Por último, **escribid algún ejemplo de uso de cada una de las funciones**:"
   ]
  },
  {
   "cell_type": "code",
   "execution_count": 35,
   "metadata": {},
   "outputs": [
    {
     "name": "stdout",
     "output_type": "stream",
     "text": [
      "El area del circulo de radio 5.4 es 91.610000\n",
      "El volumen del cubo de lado 6.6 es 287.500000\n",
      "El volumen de la esfera de radio 5.5 es 523.600000\n"
     ]
    }
   ],
   "source": [
    "# Completa las siguientes funciones matemáticas. \n",
    "# ¡Atención al uso de números decimales!\n",
    "import math    #importamos el modulo math para tener el valor de pi instanciado\n",
    "pi = math.pi   \n",
    "\n",
    "# Un ejemplo:\n",
    "def area_rectangulo(base, altura):\n",
    "    return round((base * altura), 2)\n",
    "\n",
    "def area_circulo(radio):\n",
    "    a = pi * (radio)**2\n",
    "    return round(a, 2)\n",
    "\n",
    "def longitud_circulo(radio):\n",
    "    a = 2 * pi * radio\n",
    "    return round(a, 2)\n",
    "\n",
    "def hipotenusa(cateto1, cateto2):\n",
    "    a = (cateto1**2 * cateto2**2 )**0.5\n",
    "    return round(a, 2)\n",
    "\n",
    "def area_cuadrado(lado):\n",
    "    return round((lado * lado), 2)\n",
    "\n",
    "def volumen_esfera(radio):\n",
    "    r = int(radio)\n",
    "    a = (4/3) * r**3 * pi\n",
    "    return round(a, 2)\n",
    "\n",
    "def volumen_cubo(lado):\n",
    "    return round((lado * lado * lado), 2)\n",
    "\n",
    "print(\"El area del circulo de radio 5.4 es %f\" % area_circulo(5.4))\n",
    "print(\"El volumen del cubo de lado 6.6 es %f\" % volumen_cubo(6.6))\n",
    "print(\"El volumen de la esfera de radio 5.5 es %f\" %volumen_esfera(5.5))\n",
    "\n",
    "\n",
    "# Escribe aquí algunos ejemplos utilizando estas funciones, por ejemplo:\n",
    "# print 'El volumen del cubo de lado 3.5 es %f' % volumen_cubo(3.5)"
   ]
  },
  {
   "cell_type": "markdown",
   "metadata": {},
   "source": [
    "### Ejercicio 3\n",
    "\n",
    "El siguiente ejercicio consiste en pasar un número en base 2 (binario, 0/1) a base 10 (decimal).\n",
    "\n",
    "Dado un string que representa un número en binario, por ejemplo, 1011, devolver el número \n",
    "natural correspondiente, en este caso, 11."
   ]
  },
  {
   "cell_type": "code",
   "execution_count": 45,
   "metadata": {},
   "outputs": [
    {
     "name": "stdout",
     "output_type": "stream",
     "text": [
      "5973\n",
      "11\n"
     ]
    }
   ],
   "source": [
    "# A completar: DEFINID UNA FUNCIÓN y escribid algunos casos de uso de esa función\n",
    "\n",
    "def binary_to_decimal(num):\n",
    "    return int(num, 2)   #en python se puede pasar de binario a decimal con int() y poniendo 2 porque el lenguaje binario es de base 2\n",
    "        \n",
    "        \n",
    "prueba1 = \"01011101010101\"\n",
    "prueba2 = \"1011\"\n",
    "\n",
    "print(binary_to_decimal(prueba1))\n",
    "print(binary_to_decimal(prueba2))\n",
    "\n",
    "    "
   ]
  },
  {
   "cell_type": "markdown",
   "metadata": {},
   "source": [
    "### Ejercicio 4\n",
    "\n",
    "Dada una molécula representada por un string del estilo C9-H8-O4 calcula su masa atómica. Por ejemplo, para una molécula C4-H3, la masa atómica sería de 4\\*12.01 + 3\\*1.007825.\n",
    "\n",
    "Haced una solución general accediendo al diccionario mediante la clave, que en este caso será el tipo de átomo. Por ejemplo, para la molécula C5-H3 deberíamos seguir estos pasos:\n",
    "* Separar la molecula por los guiones (podemos hacerlo con la función split, por ejemplo).\n",
    "* Para cada una de las partes, C5 y H3, encontrar el tipo de átomo: C y H. (Necesitaremos un bucle de algún tipo aquí)\n",
    "* Acceder al diccionario de masas y para la clave que se corresponde con el tipo de átomo, obtener la masa.\n",
    "* Una vez encontrada la masa, multiplicarla por el número de átomos encontrados.\n",
    "\n",
    "Pista: para un string del tipo a = 'C15', a[0] nos proporcionará el tipo de átomo, C. a[1:] nos proporciona el string restante: '15'. **Tened en cuenta que ha de convertirse a número decimal para poder multiplicarse**."
   ]
  },
  {
   "cell_type": "code",
   "execution_count": 48,
   "metadata": {},
   "outputs": [
    {
     "name": "stdout",
     "output_type": "stream",
     "text": [
      "274.21465\n",
      "194.18384999999998\n",
      "341.35027499999995\n",
      "376.196645\n"
     ]
    }
   ],
   "source": [
    "import re    #para usar re.findall()\n",
    "\n",
    "masas = {'H': 1.007825, 'C': 12.01, 'O': 15.9994,  \n",
    "         'N': 14.0067, 'S': 31.972071, 'P': 30.973762}\n",
    "\n",
    "def calcula_masa_atomica(molecula):\n",
    "    masa = 0.0\n",
    "    for group, atom, num in re.findall(r'(([A-Z])([0-9]*))', molecula): #hacemos un loop que recorre; ej: group=C14\n",
    "                                                                        #atom=C, num=14. Esto lo podemos hacer porque \n",
    "                                                                        #con la función re.findall hacemos una separación \n",
    "                                                                        #del string en letras y numeros mediante expresiones \n",
    "                                                                        #regulares\n",
    "        element_mass = masas[atom]  #accedemos al diccionario por posición de atom y guardamos el valor en una variable\n",
    "        masa += element_mass * int(num or 1) #vamos sumando a la masa cada element_mass multiplicado por el num de la iteración  \n",
    "    return masa                              #añadimos 1 por si al iterar no existe el num para el atomo en cuestión\n",
    "\n",
    "\n",
    "print(calcula_masa_atomica('C14-H10-O6'))\n",
    "print(calcula_masa_atomica('C8-H10-N4-O2'))\n",
    "print(calcula_masa_atomica('C20-H15-N5-O'))\n",
    "print(calcula_masa_atomica('C20-H10-O2-P2-S'))"
   ]
  },
  {
   "cell_type": "markdown",
   "metadata": {},
   "source": [
    "### Ejercicio 5\n",
    "\n",
    "Uno de los algoritmos más básicos en criptografía es el cifrado César (https://es.wikipedia.org/wiki/Cifrado_C%C3%A9sar), que fue utilizado por Julio César para comunicarse con sus generales, y que consiste en dado un texto, por cada una de las letras del texto, añadirle un desplazamiento para conseguir una nueva letra diferente de la original. Comprenderemos rápidamente su mecanismo mediante un ejemplo:\n",
    "\n",
    "Si asignamos el número 1 a la primera letra del abecedario, A, 2 a la siguiente, B, etc., imaginad que tenemos el siguiente mensaje:\n",
    "<code>\n",
    "ABC\n",
    "123\n",
    "</code>\n",
    "\n",
    "Si aplicamos un desplazamiento de 3, buscaremos cuál es la letra en el abecedario que se corresponde:\n",
    "<code>\n",
    "DEF\n",
    "456\n",
    "</code>\n",
    "\n",
    "ABC se ha convertido en DEF porque hemos sumado un desplazamiento de 3. También podríamos aplicar otros tipos de desplazamiento como los negativos. Por ejemplo, para el desplazamiento -1 y el mensaje original ABC tendríamos un mensaje cifrado de: ZAB.\n",
    "\n",
    "Escribid una función que dado un mensaje original y un desplazamiento, calcule y devuelva el mensaje cifrado:"
   ]
  },
  {
   "cell_type": "code",
   "execution_count": 53,
   "metadata": {},
   "outputs": [
    {
     "name": "stdout",
     "output_type": "stream",
     "text": [
      "qsphsbnbdjpo qbsb mb cjpjogpsnbujdb\n",
      "programacion para la bioinformatica\n",
      "uwtlwfrfhnts ufwf qf gntnsktwrfynhf\n"
     ]
    }
   ],
   "source": [
    "import string\n",
    "\n",
    "def cifrado_cesar(mensaje, desplazamiento):\n",
    "    alfabeto = string.ascii_lowercase  #creamos el alfabeto en minuscula\n",
    "    alfab_desplazado = alfabeto[desplazamiento:] + alfabeto[:desplazamiento] #teniendo en cuenta el desplazamiento que se nos da\n",
    "                                                                             #accedemos al alfabeto por delante y por detras de esa posición en concreto\n",
    "                                                                             #y guardamos la suma en una variable\n",
    "    tabla = str.maketrans(alfabeto, alfab_desplazado) #maketrans y translate son funciones que se usan para crear una tabla con relación 1:1                  \n",
    "    mensaje_cifrado = mensaje.lower().translate(tabla) #de los caracteres para su traducción\n",
    "    \n",
    "    return mensaje_cifrado\n",
    "\n",
    "# Aqui podeis añadir mas ejemplos\n",
    "print(cifrado_cesar(\"PROGRAMACION PARA LA BIOINFORMATICA\", 1))\n",
    "print(cifrado_cesar(\"PROGRAMACION PARA LA BIOINFORMATICA\", 0))\n",
    "print(cifrado_cesar(\"PROGRAMACION PARA LA BIOINFORMATICA\", 5))"
   ]
  },
  {
   "cell_type": "markdown",
   "metadata": {},
   "source": [
    "### Ejercicio 6\n",
    "\n",
    "El formato PDB se utiliza en química computacional para guardar información sobre moléculas en disco.\n",
    "Cada línea que empieza por ATOM representa un átomo de la molécula:\n",
    "<code>\n",
    "ATOM      1  N   ARG A   1       0.609  18.920  11.647  1.00 18.79           N\n",
    "ATOM      2  CA  ARG A   1       0.149  17.722  10.984  1.00 13.68           C\n",
    "</code>\n",
    "\n",
    "0.609, 18.920 y 11.647 son las coordenadas x, y, z del átomo 1 (un nitrógeno, 'N', última letra de la línea).\n",
    "El segundo átomo es de tipo C (Carbono) y nombre CA (Carbono Alfa).\n",
    "\n",
    "Completad el siguiente código que nos cuente el número de átomos encontrado para cada elemento.\n",
    "\n",
    "Por ejemplo, para las siguientes líneas:\n",
    "<code>\n",
    "ATOM    211  N   TYR A  27       4.697   8.290  -3.031  1.00 13.35           N\n",
    "ATOM    212  CA  TYR A  27       5.025   8.033  -1.616  0.51 11.29           C\n",
    "ATOM    214  C   TYR A  27       4.189   8.932  -0.730  1.00 10.87           C\n",
    "ATOM    215  O   TYR A  27       3.774  10.030  -1.101  1.00 12.90           O\n",
    "</code>\n",
    "\n",
    "Tendríamos dos átomos de tipo C, un átomo de tipo O y otro átomo de tipo N.\n",
    "\n",
    "**IMPORTANTE: Tened en cuenta que a priori no sabéis que tipos de átomo podéis encontrar hasta que no se lee\n",
    "la línea en vuestro código, por lo que no podéis definir una lista o diccionario de átomos encontrados salvo que se defina vacía y vaya actualizándose conforme encontramos tipos de átomos que no habíamos encontrado antes**.\n",
    "\n",
    "El archivo que utilizaremos está en el directorio [data/](data) y el fichero es [1l2y.pdb](data/1l2y.pdb)."
   ]
  },
  {
   "cell_type": "code",
   "execution_count": 54,
   "metadata": {},
   "outputs": [
    {
     "name": "stdout",
     "output_type": "stream",
     "text": [
      "{'N': 27, 'C': 98, 'O': 29, 'H': 150}\n"
     ]
    }
   ],
   "source": [
    "def cuenta_atomos(pdb_file_name):\n",
    "\n",
    "    with open(pdb_file_name) as molecula:\n",
    "\n",
    "        dic_atomos = {} # Vamos a leer linea por linea cada atomo y guardar el atomo en el dic\n",
    "        atom_list = []\n",
    "        lines = molecula.readlines()  #separamos el string por saltos en linea\n",
    "        for line in lines: #Iteramos por cada linea\n",
    "            if line.startswith('ATOM'): #Si la linea empieza por ATOM\n",
    "                campos = line.split()  #asi dividimos cada linea por secciones separadas por espacios\n",
    "                num_atom = campos[11]  #aqui esta la información que nos interesa\n",
    "                atom_list.append(num_atom)  #lo añadimos a la lista vacia creada con anterioridad\n",
    "\n",
    "        for atom in atom_list:  #iteramos por la lista\n",
    "            dic_atomos[atom] = dic_atomos.get(atom, atom_list.count(atom)) #vamos añadiendo al diccionario por un lado los\n",
    "                                                                           #atomos de la lista, y como valor, la cuenta de\n",
    "                                                                           #las veces que aparece ese atomo en la lista\n",
    "     \n",
    "    return(dic_atomos)\n",
    "\n",
    "\n",
    "print(cuenta_atomos(\"es_data_1l2y.pdb\"))"
   ]
  },
  {
   "cell_type": "markdown",
   "metadata": {},
   "source": [
    "### Ejercicio 7\n",
    "\n",
    "Para la siguiente lista de números, escribe por pantalla todos aquellos que sean impares y **cuántos se han encontrado**:\n",
    "\n",
    "```python\n",
    "numeros = [386, 462, 47, 418, 907, 344, 236, 375, 823, 566, \n",
    "           597, 978, 328, 615, 953, 345, 399, 162, 758, 219, \n",
    "           918, 237, 412, 566, 826, 248, 866, 950, 626, 949, \n",
    "           687, 217, 815, 67, 104, 58, 512, 24, 892, 894, 767, \n",
    "           553, 81, 379, 843, 831, 445, 742, 717, 958, 743, \n",
    "           527, 345, 221, 200, 456]\n",
    "```"
   ]
  },
  {
   "cell_type": "code",
   "execution_count": 57,
   "metadata": {},
   "outputs": [
    {
     "name": "stdout",
     "output_type": "stream",
     "text": [
      "[47, 907, 375, 823, 597, 615, 953, 345, 399, 219, 237, 949, 687, 217, 815, 67, 767, 553, 81, 379, 843, 831, 445, 717, 743, 527, 345, 221]\n",
      "28\n"
     ]
    }
   ],
   "source": [
    "numeros = [386, 462, 47, 418, 907, 344, 236, 375, 823, 566, \n",
    "           597, 978, 328, 615, 953, 345, 399, 162, 758, 219, \n",
    "           918, 237, 412, 566, 826, 248, 866, 950, 626, 949, \n",
    "           687, 217, 815, 67, 104, 58, 512, 24, 892, 894, 767, \n",
    "           553, 81, 379, 843, 831, 445, 742, 717, 958, 743, \n",
    "           527, 345, 221, 200, 456]\n",
    "impar = [num for num in numeros if num%2 != 0]  #con list comprehension voy iterando por los elementos de numeros y\n",
    "                                            #si cumplen la condición los añade a mi nueva lista. \n",
    "impar_count = len(impar)\n",
    "print(impar)\n",
    "print(impar_count)"
   ]
  },
  {
   "cell_type": "markdown",
   "metadata": {},
   "source": [
    "Ejercicio 8\n",
    "\n",
    "Escribe un programa que calcule la distancia euclidiana entre dos puntos en el espacio 2D. Estos puntos son (x1, y1) y (x2, y2):"
   ]
  },
  {
   "cell_type": "code",
   "execution_count": 58,
   "metadata": {},
   "outputs": [
    {
     "name": "stdout",
     "output_type": "stream",
     "text": [
      "La distancia entre (1,2) y (2,4) es:  2.24\n",
      "La distancia entre (3,2) y (7,-3) es:  6.4\n",
      "La distancia entre (5,1) y (-2,5) es:  8.06\n"
     ]
    }
   ],
   "source": [
    "\n",
    "def distance(x1, y1, x2, y2):\n",
    "    d = round(((x2 - x1)**2 + (y2 - y1)**2)**0.5 , 2)  #creo una funcíon donde inserto la formula\n",
    "         \n",
    "    return d\n",
    "\n",
    "\n",
    "print(\"La distancia entre (1,2) y (2,4) es: \", distance(1.0, 2.0, 2.0, 4.0))\n",
    "print(\"La distancia entre (3,2) y (7,-3) es: \", distance(3.0, 2.0, 7.0, -3.0))\n",
    "print(\"La distancia entre (5,1) y (-2,5) es: \", distance(5.0, 1.0, -2.0, 5.0))"
   ]
  },
  {
   "cell_type": "markdown",
   "metadata": {},
   "source": [
    "### Pregunta 1\n",
    "\n",
    "El paradigma de programación orientada a objetos es ampliamente utilizado en gran parte de las librerías que se escriben en Python. Es una forma útil de encapsular información de la que se ocupará el propio objeto donde se ha definido esa información. \n",
    "\n",
    "**Explicad qué son los siguientes conceptos:**\n",
    "\n",
    "* Una clase\n",
    "* Un objeto\n",
    "* Un atributo\n",
    "* Un método\n",
    "* Un constructor\n",
    "* Una superclase y una subclase\n",
    "\n",
    "**Poned un ejemplo de definición de una clase en código Python y un ejemplo de uso de esa misma clase**.\n",
    "\n",
    "Puedes basarte en este material: http://life.bsc.es/pid/brian/python/#/7\n",
    "\n",
    "**Respuesta:**"
   ]
  },
  {
   "cell_type": "markdown",
   "metadata": {},
   "source": [
    "- Clase: Es una plantilla para crear a partir de ella objetos. Aqui guardamos la información, caracteristicas y capacidades que tendrá el objeto que creemos a partir de ella. Estos objetos creados a partir de ella, estaran agrupados en la misma clase. Dentro de la clase, se definen los atributos y metodos. Al \"instanciar\" (crear un objeto a partir de la clase) se le dan los \"argumentos\" para los atributos y metodos. Ej: Animal.\n",
    "\n",
    "- Objeto: Entidades que tienen un comportamiento (acciones o capacidades de realizar cambios); un estado (situación o modo de estar en un momento determinado); almacenan información y pueden realizar tareas. Ej: Perro.\n",
    "\n",
    "- Atributo: Son las caracteristicas que definimos para un objeto. Ej: Color: negro; raza: Mastin.\n",
    "\n",
    "- Método: Las tareas que son capaces de realizar los objetos. Las funciones del objeto Ej: Ladra(\"Guau\"); Camina().\n",
    "\n",
    "- Constructor: Un metodo especial que Python llama para instanciar un objeto usando las definiciones encontradas en tu clase. Una función que se usa para dar la forma preestablecida de tu clase a los datos que vayas a meter.\n",
    "\n",
    "- Tenemos un termino que es la \"herencia\", significa que se pueden crear nuevas clases partiendo de clases existentes. Las nuevas clases (subclases) tendran todos los atributos y metodos de su clase padre (superclase) y se le podran añadir otros atributos y metodos propios."
   ]
  },
  {
   "cell_type": "code",
   "execution_count": 68,
   "metadata": {},
   "outputs": [
    {
     "name": "stdout",
     "output_type": "stream",
     "text": [
      "El siguiente luchador es Laura\n",
      "Hola, soy un luchador de Muay thai\n"
     ]
    }
   ],
   "source": [
    "#ejemplo de clase\n",
    "class Fighter: # definimos la clase pass # con \"pass\" la dejamos vacia\n",
    "    pass\n",
    "fighter = Fighter() #instanciamos el objeto muay_thai llamando a la clase como si fuera una función\n",
    "\n",
    "#creamos algun atributo\n",
    "fighter.name = \"Laura\" \n",
    "fighter.gender = \"Women\"\n",
    "\n",
    "print(f\"El siguiente luchador es {fighter.name}\")\n",
    "\n",
    "#añadimos algun metodo\n",
    "class Fighter:\n",
    "    def saludar(self):  #\"self\" se refiere al objeto que se usa para llamar al metodo\n",
    "        print(\"Hola, soy un luchador de Muay thai\")\n",
    "    \n",
    "\n",
    "fighter = Fighter() \n",
    "fighter.saludar()"
   ]
  },
  {
   "cell_type": "markdown",
   "metadata": {},
   "source": [
    "### Pregunta 2\n",
    "\n",
    "Las excepciones son errores detectados en tiempo de ejecución. Pueden y deben ser manejadas por el programador para minimizar el riesgo de que un determinado programa falle de forma no controlada. \n",
    "\n",
    "**Poned ejemplos de tipos de excepción en el lenguaje Python y de cómo se capturan.**\n",
    "\n",
    "**Respuesta:**"
   ]
  },
  {
   "cell_type": "markdown",
   "metadata": {},
   "source": [
    "Hay varios tipos, por ejemplo, \"TypeError\", \"KeyError\", \"IndexError\", \"NameError\"... Veamos algun ejemplo"
   ]
  },
  {
   "cell_type": "code",
   "execution_count": 1,
   "metadata": {},
   "outputs": [
    {
     "ename": "TypeError",
     "evalue": "int() argument must be a string, a bytes-like object or a number, not 'list'",
     "output_type": "error",
     "traceback": [
      "\u001b[0;31m---------------------------------------------------------------------------\u001b[0m",
      "\u001b[0;31mTypeError\u001b[0m                                 Traceback (most recent call last)",
      "\u001b[0;32m<ipython-input-1-47e6252bc4a5>\u001b[0m in \u001b[0;36m<module>\u001b[0;34m\u001b[0m\n\u001b[1;32m      1\u001b[0m \u001b[0;31m#TypeError\u001b[0m\u001b[0;34m\u001b[0m\u001b[0;34m\u001b[0m\u001b[0;34m\u001b[0m\u001b[0m\n\u001b[1;32m      2\u001b[0m \u001b[0;34m\u001b[0m\u001b[0m\n\u001b[0;32m----> 3\u001b[0;31m \u001b[0mint\u001b[0m\u001b[0;34m(\u001b[0m\u001b[0;34m[\u001b[0m\u001b[0;36m1\u001b[0m\u001b[0;34m,\u001b[0m \u001b[0;36m2\u001b[0m\u001b[0;34m,\u001b[0m \u001b[0;36m3\u001b[0m\u001b[0;34m,\u001b[0m \u001b[0;36m4\u001b[0m\u001b[0;34m]\u001b[0m\u001b[0;34m)\u001b[0m\u001b[0;34m\u001b[0m\u001b[0;34m\u001b[0m\u001b[0m\n\u001b[0m",
      "\u001b[0;31mTypeError\u001b[0m: int() argument must be a string, a bytes-like object or a number, not 'list'"
     ]
    }
   ],
   "source": [
    "#TypeError\n",
    "\n",
    "int([1, 2, 3, 4])"
   ]
  },
  {
   "cell_type": "code",
   "execution_count": 4,
   "metadata": {},
   "outputs": [
    {
     "ename": "KeyError",
     "evalue": "'five'",
     "output_type": "error",
     "traceback": [
      "\u001b[0;31m---------------------------------------------------------------------------\u001b[0m",
      "\u001b[0;31mKeyError\u001b[0m                                  Traceback (most recent call last)",
      "\u001b[0;32m<ipython-input-4-7447bd4d444d>\u001b[0m in \u001b[0;36m<module>\u001b[0;34m\u001b[0m\n\u001b[1;32m      2\u001b[0m \u001b[0;34m\u001b[0m\u001b[0m\n\u001b[1;32m      3\u001b[0m \u001b[0mnumbers\u001b[0m \u001b[0;34m=\u001b[0m \u001b[0;34m{\u001b[0m\u001b[0;34m'one'\u001b[0m\u001b[0;34m:\u001b[0m \u001b[0;36m1\u001b[0m\u001b[0;34m,\u001b[0m \u001b[0;34m'two'\u001b[0m\u001b[0;34m:\u001b[0m \u001b[0;36m2\u001b[0m\u001b[0;34m,\u001b[0m \u001b[0;34m'four'\u001b[0m\u001b[0;34m:\u001b[0m \u001b[0;36m4\u001b[0m\u001b[0;34m}\u001b[0m\u001b[0;34m\u001b[0m\u001b[0;34m\u001b[0m\u001b[0m\n\u001b[0;32m----> 4\u001b[0;31m \u001b[0mnumbers\u001b[0m\u001b[0;34m[\u001b[0m\u001b[0;34m'five'\u001b[0m\u001b[0;34m]\u001b[0m\u001b[0;34m\u001b[0m\u001b[0;34m\u001b[0m\u001b[0m\n\u001b[0m",
      "\u001b[0;31mKeyError\u001b[0m: 'five'"
     ]
    }
   ],
   "source": [
    "#KeyError\n",
    "\n",
    "numbers = {'one': 1, 'two': 2, 'four': 4}\n",
    "numbers['five']\n"
   ]
  },
  {
   "cell_type": "code",
   "execution_count": 67,
   "metadata": {},
   "outputs": [
    {
     "name": "stdout",
     "output_type": "stream",
     "text": [
      "Escribe tu edad: 4\n",
      "Aún no eres un adulto.\n"
     ]
    }
   ],
   "source": [
    "#Para capturar una excepción, lo podemos hacer con las palabras reservadas try\"y \"except\"\n",
    "\n",
    "while True:\n",
    "    try:\n",
    "        edad = int(input(\"Escribe tu edad: \"))\n",
    "        break\n",
    "    except ValueError:\n",
    "        print(\"¡Debes ingresar un número!\")\n",
    "\n",
    "if edad >= 18:\n",
    "    print(\"Eres un adulto.\")\n",
    "else:\n",
    "    print(\"Aún no eres un adulto.\")\n",
    "\n",
    "#si escribes \"ocho\", en vez de \"8\", el programa sabe que no tiene que lanzar una excepción y terminar. En cambio, el mismo programa vuelve a pedir que el usuario ingrese un numero.\n",
    "#insertamos un bucle \"while\" que hara que el programa pregunte la edad hasta que el usuario ingrese un  numero"
   ]
  }
 ],
 "metadata": {
  "kernelspec": {
   "display_name": "Python 3",
   "language": "python",
   "name": "python3"
  },
  "language_info": {
   "codemirror_mode": {
    "name": "ipython",
    "version": 3
   },
   "file_extension": ".py",
   "mimetype": "text/x-python",
   "name": "python",
   "nbconvert_exporter": "python",
   "pygments_lexer": "ipython3",
   "version": "3.8.5"
  }
 },
 "nbformat": 4,
 "nbformat_minor": 1
}
