{
 "cells": [
  {
   "cell_type": "markdown",
   "metadata": {},
   "source": [
    "# Programación para la Bioinformática"
   ]
  },
  {
   "cell_type": "markdown",
   "metadata": {},
   "source": [
    "## Unidad 3: Conceptos avanzados de Python"
   ]
  },
  {
   "cell_type": "markdown",
   "metadata": {},
   "source": [
    "Ejercicios y preguntas teóricas\n",
    "-------------------------------\n",
    "\n",
    "A continuación, encontraréis la parte que tenéis que completar en este modulo y las preguntas teóricas a contestar."
   ]
  },
  {
   "cell_type": "markdown",
   "metadata": {},
   "source": [
    "### Ejercicio 1\n",
    "\n",
    "Completa el código necesario para: \n",
    "\n",
    "* Calcular el número de palabras\n",
    "* Calcular el número de espacios de un texto\n",
    "* Calcula el número de letras 'd' o 'D' que aparecen\n",
    "\n",
    "Ten en cuenta lo siguiente:\n",
    "\n",
    "* **El número de espacios no tiene que ser necesariamente función del número de palabras**\n",
    "* **Entre una línea y la siguiente de texto, justo después del carácter '\\' hay un gran número de espacios**\n",
    "* **Hay que contar el número de letras 'd', indistintamente de si son mayúsculas o minúsculas**\n"
   ]
  },
  {
   "cell_type": "code",
   "execution_count": 4,
   "metadata": {},
   "outputs": [
    {
     "name": "stdout",
     "output_type": "stream",
     "text": [
      "El número de palabras es de 59\n",
      "El número de espacios es de 74\n",
      "El número de letras 'd' es de 10\n",
      "\n",
      "El número de palabras es de 21\n",
      "El número de espacios es de 33\n",
      "El número de letras 'd' es de 2\n"
     ]
    }
   ],
   "source": [
    "texto1 = \"There was no reason to believe that a young black boy at this time, \\\n",
    "    in this place, could in any way alter history. After all, South Africa was \\\n",
    "    then less than a decade removed from full British control. Already, laws \\\n",
    "    were being codified to implement racial segregation and subjugation, \\\n",
    "    the network of laws that would be known as apartheid\"\n",
    "\n",
    "texto2 = \"Repugnant is a creature who would squander the ability to lift \\\n",
    "             an eye to heaven, conscious of his fleeting time here.\"\n",
    "\n",
    "def contar_palabras(texto):\n",
    "     # Cuenta las palabras contenidas en el string texto\n",
    "    num_palabras = 0\n",
    "    list_texto = texto.split()\n",
    "    for i in list_texto:\n",
    "        num_palabras = num_palabras + 1\n",
    "    # Código a completar\n",
    "    \n",
    "    return num_palabras\n",
    "\n",
    "def contar_espacios(texto):\n",
    "    # Cuenta los espacios contenidos en el string texto\n",
    "    num_espacios = 0\n",
    "    \n",
    "    for i in texto:\n",
    "        if i == \" \":\n",
    "            num_espacios = num_espacios + 1\n",
    "    \n",
    "    return num_espacios\n",
    "\n",
    "\n",
    "def contar_letras(texto, letra='d'):\n",
    "    # Cuenta de letras 'letra' contenidos en texto\n",
    "    num_letras = 0\n",
    "    for i in texto.lower():\n",
    "        if i == \"d\":\n",
    "            num_letras = num_letras + 1\n",
    "        \n",
    "    # Código a completar\n",
    "    \n",
    "    return num_letras\n",
    "\n",
    "\n",
    "# Utilizamos la funciones para el texto1:\n",
    "num_palabras = contar_palabras(texto1)\n",
    "num_espacios = contar_espacios(texto1)\n",
    "num_letras = contar_letras(texto1)\n",
    "print(\"El número de palabras es de %d\" % num_palabras)\n",
    "print(\"El número de espacios es de %d\" % num_espacios)\n",
    "print(\"El número de letras 'd' es de %d\" % num_letras)\n",
    "\n",
    "print()\n",
    "\n",
    "# Y también para el texto2:\n",
    "num_palabras = contar_palabras(texto2)\n",
    "num_espacios = contar_espacios(texto2)\n",
    "num_letras = contar_letras(texto2)\n",
    "print(\"El número de palabras es de %d\" % num_palabras)\n",
    "print(\"El número de espacios es de %d\" % num_espacios)\n",
    "print(\"El número de letras 'd' es de %d\" % num_letras)"
   ]
  },
  {
   "cell_type": "markdown",
   "metadata": {},
   "source": [
    "#### Pista\n",
    "\n",
    "Echad un vistazo a la documentación de Python para la función *count()*: https://docs.python.org/3/library/string.html"
   ]
  },
  {
   "cell_type": "markdown",
   "metadata": {},
   "source": [
    "### Ejercicio 2\n",
    "\n",
    "Completad las siguientes funciones matemáticas y documentad el código también de cada función. Por último, **escribid algún ejemplo de uso de cada una de las funciones**:"
   ]
  },
  {
   "cell_type": "code",
   "execution_count": 35,
   "metadata": {},
   "outputs": [
    {
     "name": "stdout",
     "output_type": "stream",
     "text": [
      "9.2\n",
      "El area del circulo de radio 5 es 75.000000\n",
      "El volumen del cubo de lado 6 es 287.496000\n",
      "El volumen de la esfera de radio 5.5 es 500.000000\n"
     ]
    }
   ],
   "source": [
    "# Completa las siguientes funciones matemáticas. \n",
    "# ¡Atención al uso de números decimales!\n",
    "import math\n",
    "pi = int(math.pi)\n",
    "\n",
    "# Un ejemplo:\n",
    "def area_rectangulo(base, altura):\n",
    "    return base * altura\n",
    "\n",
    "\n",
    "def area_circulo(radio):\n",
    "    a = pi * int(radio)**2\n",
    "    return a\n",
    "\n",
    "\n",
    "def longitud_circulo(radio):\n",
    "    a = 2 * pi * int(radio)\n",
    "    return a\n",
    "\n",
    "\n",
    "def hipotenusa(cateto1, cateto2):\n",
    "    x1 = int(cateto1)\n",
    "    x2 = int(cateto2)\n",
    "    a = (x1**2 * x2**2 )**0,5\n",
    "    return a\n",
    "\n",
    "\n",
    "def area_cuadrado(lado):\n",
    "    return lado * lado\n",
    "\n",
    "\n",
    "def volumen_esfera(radio):\n",
    "    r = int(radio)\n",
    "    a = (4/3) * r**3 * pi\n",
    "    return a\n",
    "\n",
    "\n",
    "def volumen_cubo(lado):\n",
    "    return lado * lado * lado\n",
    "\n",
    "\n",
    "print(area_rectangulo(2.3, 4.0))\n",
    "\n",
    "print(\"El area del circulo de radio 5 es %f\" % area_circulo(5.4))\n",
    "print(\"El volumen del cubo de lado 6 es %f\" % volumen_cubo(6.6))\n",
    "print(\"El volumen de la esfera de radio 5.5 es %f\" %volumen_esfera(5.5))\n",
    "\n",
    "\n",
    "# Escribe aquí algunos ejemplos utilizando estas funciones, por ejemplo:\n",
    "# print 'El volumen del cubo de lado 3.5 es %f' % volumen_cubo(3.5)"
   ]
  },
  {
   "cell_type": "markdown",
   "metadata": {},
   "source": [
    "### Ejercicio 3\n",
    "\n",
    "El siguiente ejercicio consiste en pasar un número en base 2 (binario, 0/1) a base 10 (decimal).\n",
    "\n",
    "Dado un string que representa un número en binario, por ejemplo, 1011, devolver el número \n",
    "natural correspondiente, en este caso, 11."
   ]
  },
  {
   "cell_type": "code",
   "execution_count": 38,
   "metadata": {},
   "outputs": [],
   "source": [
    "# A completar: DEFINID UNA FUNCIÓN y escribid algunos casos de \n",
    "# uso de esa función\n",
    "\n",
    "def binary_to_decimal(num):\n",
    "    print(int(num, 2))\n",
    "        \n",
    "prueba1 = \"01011101010101\"\n",
    "prueba2 = \"0111110101010\"\n",
    "prueba3 = \"01\"\n",
    "prueba4 = \"1011\"\n",
    "    "
   ]
  },
  {
   "cell_type": "markdown",
   "metadata": {},
   "source": [
    "### Ejercicio 4\n",
    "\n",
    "Dada una molécula representada por un string del estilo C9-H8-O4 calcula su masa atómica. Por ejemplo, para una molécula C4-H3, la masa atómica sería de 4\\*12.01 + 3\\*1.007825.\n",
    "\n",
    "Haced una solución general accediendo al diccionario mediante la clave, que en este caso será el tipo de átomo. Por ejemplo, para la molécula C5-H3 deberíamos seguir estos pasos:\n",
    "* Separar la molecula por los guiones (podemos hacerlo con la función split, por ejemplo).\n",
    "* Para cada una de las partes, C5 y H3, encontrar el tipo de átomo: C y H. (Necesitaremos un bucle de algún tipo aquí)\n",
    "* Acceder al diccionario de masas y para la clave que se corresponde con el tipo de átomo, obtener la masa.\n",
    "* Una vez encontrada la masa, multiplicarla por el número de átomos encontrados.\n",
    "\n",
    "Pista: para un string del tipo a = 'C15', a[0] nos proporcionará el tipo de átomo, C. a[1:] nos proporciona el string restante: '15'. **Tened en cuenta que ha de convertirse a número decimal para poder multiplicarse**."
   ]
  },
  {
   "cell_type": "code",
   "execution_count": 10,
   "metadata": {},
   "outputs": [
    {
     "name": "stdout",
     "output_type": "stream",
     "text": [
      "274.21465\n",
      "194.18384999999998\n",
      "341.35027499999995\n",
      "376.196645\n"
     ]
    }
   ],
   "source": [
    "import re\n",
    "\n",
    "# Masas atómicas\n",
    "masas = {'H': 1.007825, 'C': 12.01, 'O': 15.9994, \n",
    "         'N': 14.0067, 'S': 31.972071, 'P': 30.973762}\n",
    "\n",
    "def calcula_masa_atomica(molecula):\n",
    "    masa = 0.0\n",
    "    for group, atom, num in re.findall(r'(([A-Z])([0-9]*))', molecula):\n",
    "        element_mass = masas[atom]\n",
    "        masa += element_mass * int(num or 1)  #añadimos 1 por si al iterar no existe el num para el atomo en cuestión\n",
    "    return masa\n",
    "\n",
    "\n",
    "print(calcula_masa_atomica('C14-H10-O6'))\n",
    "print(calcula_masa_atomica('C8-H10-N4-O2'))\n",
    "print(calcula_masa_atomica('C20-H15-N5-O'))\n",
    "print(calcula_masa_atomica('C20-H10-O2-P2-S'))"
   ]
  },
  {
   "cell_type": "markdown",
   "metadata": {},
   "source": [
    "#### Nota importante\n",
    "\n",
    "Como se especifica en el enunciado, el diccionario ha de crearse sobre la marcha. **Los siguientes ejemplos son incorrectos**:"
   ]
  },
  {
   "cell_type": "code",
   "execution_count": 5,
   "metadata": {},
   "outputs": [
    {
     "name": "stdout",
     "output_type": "stream",
     "text": [
      "None\n"
     ]
    }
   ],
   "source": [
    "masas = {'H': 1.007825, 'C': 12.01, 'O': 15.9994, \n",
    "         'N': 14.0067, 'S': 31.972071, 'P': 30.973762}\n",
    "\n",
    "# Este primer ejemplo tiene varios problemas:\n",
    "# 1: no tiene en cuenta el parámetro molecula\n",
    "# 2: no utiliza ningún bucle, la solución está \"harcoded\"\n",
    "# 3: la función no tiene return\n",
    "def calcula_masa_atomica(molecula):\n",
    "    masa = masas['C']*13 + masas['H']*18 + masas['O']*2\n",
    "    \n",
    "print(calcula_masa_atomica('C13-H18-O2'))"
   ]
  },
  {
   "cell_type": "code",
   "execution_count": 6,
   "metadata": {},
   "outputs": [
    {
     "name": "stdout",
     "output_type": "stream",
     "text": [
      "156.13\n"
     ]
    }
   ],
   "source": [
    "masas = {'H': 1.007825, 'C': 12.01, 'O': 15.9994, \n",
    "         'N': 14.0067, 'S': 31.972071, 'P': 30.973762}\n",
    "\n",
    "# Este segundo ejemplo sí que utiliza un bucle, \n",
    "# pero no hace uso del diccionario de masas\n",
    "def calcula_masa_atomica(molecula):\n",
    "    masa = 0.0\n",
    "    grupos = molecula.split('-')\n",
    "    for grupo in grupos:\n",
    "        if grupo[0] == 'C':\n",
    "            masa += float(grupo[1:]) * 12.01\n",
    "    return masa\n",
    "    \n",
    "print(calcula_masa_atomica('C13-H18-O2'))"
   ]
  },
  {
   "cell_type": "markdown",
   "metadata": {},
   "source": [
    "### Ejercicio 5\n",
    "\n",
    "Uno de los algoritmos más básicos en criptografía es el cifrado César (https://es.wikipedia.org/wiki/Cifrado_C%C3%A9sar), que fue utilizado por Julio César para comunicarse con sus generales, y que consiste en dado un texto, por cada una de las letras del texto, añadirle un desplazamiento para conseguir una nueva letra diferente de la original. Comprenderemos rápidamente su mecanismo mediante un ejemplo:\n",
    "\n",
    "Si asignamos el número 1 a la primera letra del abecedario, A, 2 a la siguiente, B, etc., imaginad que tenemos el siguiente mensaje:\n",
    "<code>\n",
    "ABC\n",
    "123\n",
    "</code>\n",
    "\n",
    "Si aplicamos un desplazamiento de 3, buscaremos cuál es la letra en el abecedario que se corresponde:\n",
    "<code>\n",
    "DEF\n",
    "456\n",
    "</code>\n",
    "\n",
    "ABC se ha convertido en DEF porque hemos sumado un desplazamiento de 3. También podríamos aplicar otros tipos de desplazamiento como los negativos. Por ejemplo, para el desplazamiento -1 y el mensaje original ABC tendríamos un mensaje cifrado de: ZAB.\n",
    "\n",
    "Escribid una función que dado un mensaje original y un desplazamiento, calcule y devuelva el mensaje cifrado:"
   ]
  },
  {
   "cell_type": "code",
   "execution_count": 2,
   "metadata": {},
   "outputs": [
    {
     "name": "stdout",
     "output_type": "stream",
     "text": [
      "qsphsbnbdjpo qbsb mb cjpjogpsnbujdb\n",
      "programacion para la bioinformatica\n",
      "uwtlwfrfhnts ufwf qf gntnsktwrfynhf\n"
     ]
    }
   ],
   "source": [
    "import string\n",
    "\n",
    "def cifrado_cesar(mensaje, desplazamiento=1):\n",
    "    alfabeto = string.ascii_lowercase\n",
    "    alfab_desplazado = alfabeto[desplazamiento:] + alfabeto[:desplazamiento]\n",
    "    tabla = str.maketrans(alfabeto, alfab_desplazado)\n",
    "    mensaje_cifrado = mensaje.lower().translate(tabla)\n",
    "    \n",
    "    return mensaje_cifrado\n",
    "\n",
    "# Aqui podeis añadir mas ejemplos\n",
    "print(cifrado_cesar(\"PROGRAMACION PARA LA BIOINFORMATICA\", 1))\n",
    "print(cifrado_cesar(\"PROGRAMACION PARA LA BIOINFORMATICA\", 0))\n",
    "print(cifrado_cesar(\"PROGRAMACION PARA LA BIOINFORMATICA\", 5))"
   ]
  },
  {
   "cell_type": "markdown",
   "metadata": {},
   "source": [
    "### Ejercicio 6\n",
    "\n",
    "El formato PDB se utiliza en química computacional para guardar información sobre moléculas en disco.\n",
    "Cada línea que empieza por ATOM representa un átomo de la molécula:\n",
    "<code>\n",
    "ATOM      1  N   ARG A   1       0.609  18.920  11.647  1.00 18.79           N\n",
    "ATOM      2  CA  ARG A   1       0.149  17.722  10.984  1.00 13.68           C\n",
    "</code>\n",
    "\n",
    "0.609, 18.920 y 11.647 son las coordenadas x, y, z del átomo 1 (un nitrógeno, 'N', última letra de la línea).\n",
    "El segundo átomo es de tipo C (Carbono) y nombre CA (Carbono Alfa).\n",
    "\n",
    "Completad el siguiente código que nos cuente el número de átomos encontrado para cada elemento.\n",
    "\n",
    "Por ejemplo, para las siguientes líneas:\n",
    "<code>\n",
    "ATOM    211  N   TYR A  27       4.697   8.290  -3.031  1.00 13.35           N\n",
    "ATOM    212  CA  TYR A  27       5.025   8.033  -1.616  0.51 11.29           C\n",
    "ATOM    214  C   TYR A  27       4.189   8.932  -0.730  1.00 10.87           C\n",
    "ATOM    215  O   TYR A  27       3.774  10.030  -1.101  1.00 12.90           O\n",
    "</code>\n",
    "\n",
    "Tendríamos dos átomos de tipo C, un átomo de tipo O y otro átomo de tipo N.\n",
    "\n",
    "**IMPORTANTE: Tened en cuenta que a priori no sabéis que tipos de átomo podéis encontrar hasta que no se lee\n",
    "la línea en vuestro código, por lo que no podéis definir una lista o diccionario de átomos encontrados salvo que se defina vacía y vaya actualizándose conforme encontramos tipos de átomos que no habíamos encontrado antes**.\n",
    "\n",
    "El archivo que utilizaremos está en el directorio [data/](data) y el fichero es [1l2y.pdb](data/1l2y.pdb)."
   ]
  },
  {
   "cell_type": "code",
   "execution_count": 8,
   "metadata": {},
   "outputs": [
    {
     "name": "stdout",
     "output_type": "stream",
     "text": [
      "{}\n"
     ]
    }
   ],
   "source": [
    "import os\n",
    "\n",
    "\"\"\"\n",
    "El siguiente código es una pista de cómo leer línea por \n",
    "línea los átomos y acceder a su tipo (el último carácter):\n",
    "\n",
    "lines = molecula.split(os.linesep)\n",
    "for line in lines:\n",
    "    if line.startswith('ATOM'):\n",
    "        atomo = line[77].strip()\n",
    "        print atomo\n",
    "\"\"\"\n",
    "\n",
    "def cuenta_atomos(pdb_file_name):\n",
    "    \n",
    "    # Guardaremos en esta variable los átomos encontrados:\n",
    "    numero_atomos = dict()\n",
    "    \n",
    "    # Abrimos el fichero:\n",
    "    with open(pdb_file_name) as file_content:\n",
    "        \n",
    "        # Código a completar, borrad 'pass'\n",
    "        pass\n",
    "    \n",
    "    return numero_atomos\n",
    "\n",
    "\n",
    "resultado = cuenta_atomos('data/1l2y.pdb')\n",
    "\n",
    "# El resultado debería ser un diccionario con los \n",
    "# siguientes valores:\n",
    "# resultado = {'N':27, 'C':98, 'O':29, 'H':150}\n",
    "print(resultado)"
   ]
  },
  {
   "cell_type": "markdown",
   "metadata": {},
   "source": [
    "#### Pista\n",
    "\n",
    "El siguiente código os ayudará a entender cómo crear un diccionario sobre la marcha y programar la solución para este ejercicio:"
   ]
  },
  {
   "cell_type": "code",
   "execution_count": 9,
   "metadata": {},
   "outputs": [
    {
     "name": "stdout",
     "output_type": "stream",
     "text": [
      "211\n",
      "212\n",
      "214\n",
      "215\n",
      "216\n",
      "218\n",
      "220\n",
      "222\n",
      "224\n",
      "226\n",
      "228\n",
      "230\n",
      "232\n",
      "233\n",
      "234\n",
      "235\n",
      "236\n",
      "237\n",
      "238\n",
      "239\n",
      "240\n",
      "241\n",
      "242\n",
      "{'211': [4.697, 8.29, -3.031], '212': [5.025, 8.033, -1.616], '214': [4.189, 8.932, -0.73], '215': [3.774, 10.03, -1.101], '216': [6.509, 8.214, -1.31], '218': [7.406, 7.086, -1.795], '220': [7.951, 6.144, -0.978], '222': [7.674, 6.963, -3.164], '224': [8.752, 5.109, -1.405], '226': [8.455, 5.964, -3.656], '228': [8.99, 5.041, -2.763], '230': [9.803, 4.026, -3.237], '232': [3.977, 8.402, 0.487], '233': [3.295, 9.146, 1.517], '234': [4.174, 10.264, 2.053], '235': [5.378, 10.108, 2.202], '236': [2.912, 8.21, 2.68], '237': [1.804, 6.853, 2.197], '238': [3.546, 11.391, 2.43], '239': [4.295, 12.472, 3.049], '240': [3.416, 13.524, 3.596], '241': [3.985, 14.574, 4.052], '242': [2.168, 13.386, 3.672]}\n"
     ]
    }
   ],
   "source": [
    "import os\n",
    "\n",
    "molecula = \"\"\"\n",
    "ATOM    211  N   TYR A  27       4.697   8.290  -3.031  1.00 13.35           N\n",
    "ATOM    212  CA  TYR A  27       5.025   8.033  -1.616  0.51 11.29           C\n",
    "ATOM    214  C   TYR A  27       4.189   8.932  -0.730  1.00 10.87           C\n",
    "ATOM    215  O   TYR A  27       3.774  10.030  -1.101  1.00 12.90           O\n",
    "ATOM    216  CB  TYR A  27       6.509   8.214  -1.310  0.51 12.65           C\n",
    "ATOM    218  CG  TYR A  27       7.406   7.086  -1.795  0.51 14.00           C\n",
    "ATOM    220  CD1 TYR A  27       7.951   6.144  -0.978  0.51 14.16           C\n",
    "ATOM    222  CD2 TYR A  27       7.674   6.963  -3.164  0.51 17.10           C\n",
    "ATOM    224  CE1 TYR A  27       8.752   5.109  -1.405  0.51 14.93           C\n",
    "ATOM    226  CE2 TYR A  27       8.455   5.964  -3.656  0.51 17.43           C\n",
    "ATOM    228  CZ  TYR A  27       8.990   5.041  -2.763  0.51 16.44           C\n",
    "ATOM    230  OH  TYR A  27       9.803   4.026  -3.237  0.51 17.79           O\n",
    "ATOM    232  N   CYS A  28       3.977   8.402   0.487  1.00 10.53           N\n",
    "ATOM    233  CA  CYS A  28       3.295   9.146   1.517  1.00 10.04           C\n",
    "ATOM    234  C   CYS A  28       4.174  10.264   2.053  1.00 10.31           C\n",
    "ATOM    235  O   CYS A  28       5.378  10.108   2.202  1.00 12.91           O\n",
    "ATOM    236  CB  CYS A  28       2.912   8.210   2.680  1.00  9.81           C\n",
    "ATOM    237  SG  CYS A  28       1.804   6.853   2.197  1.00  9.93           S\n",
    "ATOM    238  N   GLY A  29       3.546  11.391   2.430  1.00 10.76           N\n",
    "ATOM    239  CA  GLY A  29       4.295  12.472   3.049  1.00 11.93           C\n",
    "ATOM    240  C   GLY A  29       3.416  13.524   3.596  1.00 12.60           C\n",
    "ATOM    241  O   GLY A  29       3.985  14.574   4.052  1.00 15.82           O\n",
    "ATOM    242  OXT GLY A  29       2.168  13.386   3.672  1.00 11.37           O\n",
    "\"\"\"\n",
    "\n",
    "# Vamos a leer línea por línea cada átomo y guardaremos sus \n",
    "# coordenadas en un diccionario:\n",
    "coordenadas = {}\n",
    "\n",
    "# Separamos el string molecula por los saltos de línea\n",
    "lines = molecula.split(os.linesep)\n",
    "# Ahora iteramos por cada una de las línas\n",
    "for line in lines:\n",
    "    # Si la línea empieza por ATOM:\n",
    "    if line.startswith('ATOM'):\n",
    "        # Vamos a quedarnos con el número de átomo (211, 212, 214, etc.):\n",
    "        campos = line.split()\n",
    "        # El número de átomo se corresponde con el segundo campo \n",
    "        # cuando separamos por espacios la línea. Como los índices \n",
    "        # empiezan en 0, el segundo se corresponde con el índice 1:\n",
    "        num_atom = campos[1]\n",
    "        print(num_atom)\n",
    "        \n",
    "        # Ahora obtenemos las coordenadas x, y, z del átomo de \n",
    "        # la misma forma:\n",
    "        x = float(campos[6])\n",
    "        y = float(campos[7])\n",
    "        z = float(campos[8])\n",
    "        \n",
    "        # Por último, guardamos en el diccionario para la clave \n",
    "        # del número de átomo las coordenadas:\n",
    "        coordenadas[num_atom] = [x, y, z]\n",
    "\n",
    "# Muestra el diccionario:\n",
    "print(coordenadas)"
   ]
  },
  {
   "cell_type": "markdown",
   "metadata": {},
   "source": [
    "### Ejercicio 7\n",
    "\n",
    "Para la siguiente lista de números, escribe por pantalla todos aquellos que sean impares y **cuántos se han encontrado**:\n",
    "\n",
    "```python\n",
    "numeros = [386, 462, 47, 418, 907, 344, 236, 375, 823, 566, \n",
    "           597, 978, 328, 615, 953, 345, 399, 162, 758, 219, \n",
    "           918, 237, 412, 566, 826, 248, 866, 950, 626, 949, \n",
    "           687, 217, 815, 67, 104, 58, 512, 24, 892, 894, 767, \n",
    "           553, 81, 379, 843, 831, 445, 742, 717, 958, 743, \n",
    "           527, 345, 221, 200, 456]\n",
    "```"
   ]
  },
  {
   "cell_type": "code",
   "execution_count": 10,
   "metadata": {},
   "outputs": [],
   "source": [
    "# Tu respuesta"
   ]
  },
  {
   "cell_type": "markdown",
   "metadata": {},
   "source": [
    "### Ejercicio 8\n",
    "\n",
    "Escribe un programa que calcule la distancia euclidiana entre dos puntos en el espacio 2D. Estos puntos son (x1, y1) y (x2, y2):"
   ]
  },
  {
   "cell_type": "code",
   "execution_count": 11,
   "metadata": {},
   "outputs": [
    {
     "name": "stdout",
     "output_type": "stream",
     "text": [
      "La distancia entre (1,2) y (2,4) es:  0.0\n",
      "La distancia entre (3,2) y (7,-3) es:  0.0\n",
      "La distancia entre (5,1) y (-2,5) es:  0.0\n"
     ]
    }
   ],
   "source": [
    "\n",
    "def distance(x1, y1, x2, y2):\n",
    "    d = 0.0\n",
    "    \n",
    "    # A completar\n",
    "    \n",
    "    return d\n",
    "\n",
    "\n",
    "print(\"La distancia entre (1,2) y (2,4) es: \", distance(1.0, 2.0, 2.0, 4.0))\n",
    "print(\"La distancia entre (3,2) y (7,-3) es: \", distance(3.0, 2.0, 7.0, -3.0))\n",
    "print(\"La distancia entre (5,1) y (-2,5) es: \", distance(5.0, 1.0, -2.0, 5.0))"
   ]
  },
  {
   "cell_type": "markdown",
   "metadata": {},
   "source": [
    "### Pregunta 1\n",
    "\n",
    "El paradigma de programación orientada a objetos es ampliamente utilizado en gran parte de las librerías que se escriben en Python. Es una forma útil de encapsular información de la que se ocupará el propio objeto donde se ha definido esa información. \n",
    "\n",
    "**Explicad qué son los siguientes conceptos:**\n",
    "\n",
    "* Una clase\n",
    "* Un objeto\n",
    "* Un atributo\n",
    "* Un método\n",
    "* Un constructor\n",
    "* Una superclase y una subclase\n",
    "\n",
    "**Poned un ejemplo de definición de una clase en código Python y un ejemplo de uso de esa misma clase**.\n",
    "\n",
    "Puedes basarte en este material: http://life.bsc.es/pid/brian/python/#/7\n",
    "\n",
    "**Respuesta:**"
   ]
  },
  {
   "cell_type": "markdown",
   "metadata": {},
   "source": [
    "Tu respuesta"
   ]
  },
  {
   "cell_type": "markdown",
   "metadata": {},
   "source": [
    "### Pregunta 2\n",
    "\n",
    "Las excepciones son errores detectados en tiempo de ejecución. Pueden y deben ser manejadas por el programador para minimizar el riesgo de que un determinado programa falle de forma no controlada. \n",
    "\n",
    "**Poned ejemplos de tipos de excepción en el lenguaje Python y de cómo se capturan.**\n",
    "\n",
    "**Respuesta:**"
   ]
  },
  {
   "cell_type": "markdown",
   "metadata": {},
   "source": [
    "Tu respuesta"
   ]
  }
 ],
 "metadata": {
  "kernelspec": {
   "display_name": "Python 3",
   "language": "python",
   "name": "python3"
  },
  "language_info": {
   "codemirror_mode": {
    "name": "ipython",
    "version": 3
   },
   "file_extension": ".py",
   "mimetype": "text/x-python",
   "name": "python",
   "nbconvert_exporter": "python",
   "pygments_lexer": "ipython3",
   "version": "3.8.5"
  }
 },
 "nbformat": 4,
 "nbformat_minor": 1
}
