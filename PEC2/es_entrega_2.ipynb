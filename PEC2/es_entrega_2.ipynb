{
 "cells": [
  {
   "cell_type": "markdown",
   "metadata": {},
   "source": [
    "# Programación para la Bioinformática"
   ]
  },
  {
   "cell_type": "markdown",
   "metadata": {},
   "source": [
    "## Módulo 2: Breve introducción a la programación en Python"
   ]
  },
  {
   "cell_type": "markdown",
   "metadata": {},
   "source": [
    "Ejercicios y preguntas teóricas\n",
    "-------------------------------\n",
    "\n",
    "A continuación, encontraréis la parte que tenéis que completar en este modulo y las preguntas teóricas a contestar.\n",
    "\n",
    "Podéis encontrar en la documentación oficial de *string* funciones que os puedan ser de ayuda para completar los ejercicios: https://docs.python.org/3/library/string.html"
   ]
  },
  {
   "cell_type": "markdown",
   "metadata": {},
   "source": [
    "### Pregunta 1\n",
    "¿Cuál es la diferencia entre definir un string con comillas simples (' '), comillas dobles(\" \") y tres comillas dobles (\"\"\" \"\"\")? \n",
    "\n",
    "**Pon un ejemplo de cada uno de ellos**.\n",
    "\n",
    "**Respuesta:**\n"
   ]
  },
  {
   "cell_type": "markdown",
   "metadata": {},
   "source": [
    "No hay diferencia entre las comillas simples y dobles, se define el string. En cambio, si usamos tres comillas\n",
    "dobles, definimos un comentario. El comentario no corre con el codigo, no es comando. Se usa para ir comentando\n",
    "el codigo escrito para que haya una buena comprensión\n"
   ]
  },
  {
   "cell_type": "markdown",
   "metadata": {},
   "source": [
    "### Pregunta 2\n",
    "¿Qué expresión en Python (la más idiomática que encuentres) necesitamos para conseguir el string `ACTGACTGACTGACTGACTGACTGACTGACTGACTGACTGACTGACTG` utilizando solo la palabra `ACTG`?\n",
    "\n",
    "**Respuesta:**"
   ]
  },
  {
   "cell_type": "code",
   "execution_count": 6,
   "metadata": {},
   "outputs": [
    {
     "name": "stdout",
     "output_type": "stream",
     "text": [
      "ACTGACTGACTGACTGACTGACTGACTGACTGACTGACTGACTGACTG\n"
     ]
    }
   ],
   "source": [
    "#No entiendo muy bien lo que se pide, esta es una manera simple\n",
    "print(\"ACTG\"*12)"
   ]
  },
  {
   "cell_type": "markdown",
   "metadata": {},
   "source": [
    "### Pregunta 3\n",
    "\n",
    "**¿Cuál es el valor final de a, b y c (atención a los tipos de número decimal y entero)?**\n",
    "\n",
    "a = 6*2\n",
    "\n",
    "b = 9/2.\n",
    "\n",
    "c, a = a+1, b*2\n",
    "\n",
    "b = a // 3\n",
    "\n",
    "** Nota: ** Tened en cuenta el tipo de variable (int, float, bool, str) y su comportamiento en cada momento."
   ]
  },
  {
   "cell_type": "markdown",
   "metadata": {},
   "source": [
    "En la primera linea, se inicializa a y se le asigna el resultado de la expresión 6*2 = 12. \n",
    "\n",
    "El la segunda linea, se inicializa b y se le asigna el valor 4.5.\n",
    "En la tercera linea, se instancia c y se le asigna el valor de a+1, que en ese momento de la ejecución equivale a 12+1=13.\n",
    "Seguidamente a la variable a se le reasigna el resultado de de b*2 que en ese momento equivale a 4.5*2 = 9.\n",
    "En la ultima linea, a la variable b, se le reasigna el valor a//3, que es igual a 9//3 = 3.\n",
    "\n",
    "a = 9.0 que es un valor de tipo float, porque inicialmente la b es 9/2.0\n",
    "\n",
    "b = 3.0 que es un valor de tipo float, porque inicialmente la b es 9/2.0\n",
    "\n",
    "c = 13 que es un valor de tipo int"
   ]
  },
  {
   "cell_type": "markdown",
   "metadata": {},
   "source": [
    "Queremos saber cual es el valor final y porqué. Puedes ejecutar el código en una nueva celda para comprobar que tu respuesta es correcta, pero tu respuesta **debe** explicar la razón de que sea así, no vale con tan solo ejecutar el código.\n",
    "\n",
    "**No son lo mismo: 9 y 9.0**\n",
    "\n",
    "**Son lo mismo: 9. y 9.0**"
   ]
  },
  {
   "cell_type": "markdown",
   "metadata": {},
   "source": [
    "### Pregunta 4\n",
    "\n",
    "**¿Cuáles de las siguientes expresiones son sintácticamente incorrectas? Explica el porqué una por una.** Por sintácticamente incorrectas entendemos las expresiones que el intérprete de Python no es capaz de ejecutar correctamente.\n",
    "\n",
    "* planetas = 'Saturno', 'Jupiter', 'Tierra'\n",
    "* t = ('123', 'abc', 0, )\n",
    "* dias = ['Lunes', 'Martes', \"Miercoles\", ''.join(['J','u','e','v','e','s'])]\n",
    "* matriz = [[],[],[],[],()]\n",
    "* t = r = s = u = 0 + 1\n",
    "* a = 1; a += 1; a += []\n",
    "\n",
    "**Respuesta:**"
   ]
  },
  {
   "cell_type": "markdown",
   "metadata": {},
   "source": [
    "La primera es correcta, es una tupla. \n",
    "La segunda es correcta, es una tupla.\n",
    "La tercera es correcta, es una lista.\n",
    "La cuarta es correcta, es una lista.\n",
    "La quinta es una instancia que señala a otra intancia hasta llegar a un valor.\n",
    "La ultima linea es incorrecta. (int += lista) nos da un TypeError."
   ]
  },
  {
   "cell_type": "markdown",
   "metadata": {},
   "source": [
    "### Pregunta 5\n",
    "\n",
    "Explica a qué se refieren con el término \"batteries included\" en la comunidad Python. **Poned 5 ejemplos de paquetes de la librería estándar y una explicación de cada uno de ellos.**\n",
    "\n",
    "**Respuesta:**"
   ]
  },
  {
   "cell_type": "markdown",
   "metadata": {},
   "source": [
    "Con solamente instalar python en nuestra maquina, tenemos a nuestra disposición muchisimas librerias que trae consigo por defecto. Estas librerias nos dan la opcion de hacer muchas cosas sin tener que recurrir a mas. Esto forma parte de la filosofia \"bateries included\".\n",
    "El modulo \"random\" provee herramientas para realizar selecciones al azar.\n",
    "El modulo \"statistics\" calcula propiedades de estadistica basica.\n",
    "El modulo \"datetime\" ofrece clases para gestionar fechas y tiempos.\n",
    "El modulo \"platform\" da informació más completa y detallada sobre el ordenador.\n",
    "El modulo \"os\" es una interfaz para el sistema operativo del ordenador que ejecuta el programa."
   ]
  },
  {
   "cell_type": "markdown",
   "metadata": {},
   "source": [
    "### Pregunta 6\n",
    "\n",
    "Python dispone de un idiom muy útil conocido como list comprehensions. ¿Puedes explicar en qué consiste? Indicad \n",
    "**dos ejemplos** de código que utilicen este idiom y documentad cada parte de código relevante.\n",
    "\n",
    "**Respuesta:**"
   ]
  },
  {
   "cell_type": "markdown",
   "metadata": {},
   "source": [
    "Son una manera de crear listas simplificando el codigo al maximo. Se entiende mejor con ejemplos."
   ]
  },
  {
   "cell_type": "code",
   "execution_count": 16,
   "metadata": {},
   "outputs": [
    {
     "name": "stdout",
     "output_type": "stream",
     "text": [
      "[2, 68, 200]\n"
     ]
    }
   ],
   "source": [
    "numbers = [3, 5, 7, 2, 45, 68, 200] #Tenemos una lista de numeros\n",
    "pairs = [] #Creamos una lista varia llamada pares\n",
    "for num in numbers: #Con un bucle, vamos iterando por cada elemento de la lista numbers \n",
    "    if num % 2 == 0: #Ponemos una condicion, si se cumple, añadimos ese elemento a la lista vacia pairs\n",
    "        pairs.append(num)\n",
    "print(pairs)"
   ]
  },
  {
   "cell_type": "code",
   "execution_count": 18,
   "metadata": {},
   "outputs": [
    {
     "name": "stdout",
     "output_type": "stream",
     "text": [
      "[2, 68, 200]\n"
     ]
    }
   ],
   "source": [
    "#Podemos poner el codigo anterior de la manera siguiente\n",
    "numbers = [3, 5, 7, 2, 45, 68, 200]\n",
    "pairs = [num for num in numbers if num % 2 == 0]\n",
    "# Le decimos, cada elemento por cada elemento en numbers si el elemento cumple la siguiente condición. \n",
    "\n",
    "print(pairs)"
   ]
  },
  {
   "cell_type": "code",
   "execution_count": 20,
   "metadata": {},
   "outputs": [
    {
     "name": "stdout",
     "output_type": "stream",
     "text": [
      "['Jon', 'Ale']\n"
     ]
    }
   ],
   "source": [
    "#Otro ejemplo\n",
    "names = [\"James\", \"Jon\", \"Ainhoa\", \"Laura\", \"Ale\", \"Maria\", \"Nora\"]\n",
    "short_names = [name for name in names if len(name) <= 3]\n",
    "#Le decimos que itere por cada elemento(name) de la lista names y los tenga en cuenta solo si la longitud es menor o igual a 3\n",
    "print(short_names)"
   ]
  },
  {
   "cell_type": "markdown",
   "metadata": {},
   "source": [
    "### Pregunta 7\n",
    "\n",
    "Enumera **dos** diferencias entre las versiones 2 y 3 de Python.\n",
    "\n",
    "**Respuesta:**"
   ]
  },
  {
   "cell_type": "markdown",
   "metadata": {},
   "source": [
    "La sentencia \"print\" en python 3 es una función y hay que encerrrar entre paréntesis lo que se quiera imprimir. En python 2 en cambio, los parentesis no son necesarios. Otra diferencia, en python 2 la división entre números enteros es otro número entero, si se quiere un resultado con decimales el numerador o denominador tiene que tener también al menos un decimal."
   ]
  },
  {
   "cell_type": "markdown",
   "metadata": {},
   "source": [
    "### Ejercicio 1\n",
    "\n",
    "Escribe un programa que asigne dos valores enteros cualquiera (escoged vosotros un número entero aleatorio, no es necesario utilizar ninguna librería externa) a dos variables con nombre t y w, calcule el producto de t por dos veces w y finalmente muestre el valor del cuadrado de la operación anterior:\n",
    "\n",
    "f(t, w) = (t \\* 2 \\* w)<sup>2</sup>\n",
    "\n",
    "**Nota:** No es necesario utilizar ninguna libreria, ni importar ningún módulo para escoger el numero aleatorio ni para resolver este ejercicio."
   ]
  },
  {
   "cell_type": "code",
   "execution_count": 14,
   "metadata": {},
   "outputs": [
    {
     "data": {
      "text/plain": [
       "256"
      ]
     },
     "execution_count": 14,
     "metadata": {},
     "output_type": "execute_result"
    }
   ],
   "source": [
    "'''Creo una función que coje dos valores como argumento y los inserta en la formula que da valor a la variable, \n",
    "luego, hago que retorne la variable. Hago las funciones en ingles porque veo que en el mundo de la programación\n",
    "y la ciencia es el idioma por defecto'''\n",
    "\n",
    "def two_values(t, w):\n",
    "    a = (t * 2 * w)**2\n",
    "    return a\n",
    "\n",
    "two_values(2, 4)"
   ]
  },
  {
   "cell_type": "markdown",
   "metadata": {},
   "source": [
    "### Ejercicio 2\n",
    "\n",
    "Escribe un programa que defina una lista cuyos valores sean los nombres de los meses del año. Ordénalos por orden lexicográfico. No utilices ninguna librería:"
   ]
  },
  {
   "cell_type": "code",
   "execution_count": 6,
   "metadata": {},
   "outputs": [
    {
     "data": {
      "text/plain": [
       "['april',\n",
       " 'august',\n",
       " 'december',\n",
       " 'february',\n",
       " 'january',\n",
       " 'july',\n",
       " 'jun',\n",
       " 'june',\n",
       " 'march',\n",
       " 'may',\n",
       " 'november',\n",
       " 'october',\n",
       " 'september']"
      ]
     },
     "execution_count": 6,
     "metadata": {},
     "output_type": "execute_result"
    }
   ],
   "source": [
    "'''Creo una función que coje una lista que contiene ciertos meses, comprueba que meses faltan en esta lista haciendo\n",
    "la comparativa con otra lista que tiene dentro que SI que contiene todos los meses y si ve que a mi argumento/list le\n",
    "falta algun mes se lo añade. Luego los ordena lexicográficamente y por ultimo la función devuelve la lista remodelada, \n",
    "aunque esto se puede decir que lo hace a la vez, retorna la lista final ordenada'''\n",
    "\n",
    "def month_list(list):\n",
    "    all_month = [\"january\", \"february\", \"march\", \"april\", \"may\", \"june\", \"july\", \"august\", \"september\", \"october\", \"november\", \"december\"]\n",
    "    for item in all_month:\n",
    "        if item not in list:\n",
    "            list.append(item)\n",
    "    return sorted(list)\n",
    "            \n",
    "        \n",
    "month = [\"jun\", \"september\", \"july\", \"august\"]\n",
    "month_list(month)\n",
    "    "
   ]
  },
  {
   "cell_type": "markdown",
   "metadata": {},
   "source": [
    "### Ejercicio 3\n",
    "\n",
    "Escribe un programa que calcule e imprima el volumen de una esfera de radio 3.5:"
   ]
  },
  {
   "cell_type": "code",
   "execution_count": 3,
   "metadata": {},
   "outputs": [
    {
     "name": "stdout",
     "output_type": "stream",
     "text": [
      "3.141592653589793\n"
     ]
    },
    {
     "data": {
      "text/plain": [
       "33.510321638291124"
      ]
     },
     "execution_count": 3,
     "metadata": {},
     "output_type": "execute_result"
    }
   ],
   "source": [
    "'''Se importa la libreria math'''\n",
    "import math\n",
    "print(math.pi)\n",
    "\n",
    "'''Creo una función que contiene la formula de la esfera y coje un argumento, el valor del radio.\n",
    "Hago que la función pase mi argumento por la formula y me retorne el valor de la variable que contiene\n",
    "la formula'''\n",
    "\n",
    "def sphere_vol(r):\n",
    "    vol = 4/3 * math.pi * r**3\n",
    "    return vol\n",
    "\n",
    "sphere_vol(2)\n",
    "\n"
   ]
  },
  {
   "cell_type": "markdown",
   "metadata": {},
   "source": [
    "### Ejercicio 4\n",
    "\n",
    "Escribe un programa donde se defina un diccionario cuyas claves sean los nombres de los continentes y el valor una lista con animales endémicos de ese continente. Por ejemplo:\n",
    "\n",
    "```\n",
    "animales -> Europa: (Lince ibérico, Bison Europeo, Vaca Suiza),\n",
    "            África: (León, Elefante Africano, Avestruz),\n",
    "            ...\n",
    "```\n",
    "\n",
    "Un diccionario es una estructura de datos de Python, por favor repasa la teoria si no lo recuerdas."
   ]
  },
  {
   "cell_type": "code",
   "execution_count": null,
   "metadata": {},
   "outputs": [],
   "source": [
    "# Tu respuesta"
   ]
  },
  {
   "cell_type": "markdown",
   "metadata": {},
   "source": [
    "### Ejercicio 5\n",
    "\n",
    "Escribe un programa que imprima la versión del intérprete de Python que se está ejecutando:"
   ]
  },
  {
   "cell_type": "code",
   "execution_count": 8,
   "metadata": {},
   "outputs": [],
   "source": [
    "# Tu respuesta\n"
   ]
  },
  {
   "cell_type": "code",
   "execution_count": null,
   "metadata": {},
   "outputs": [],
   "source": [
    "### No es correcto, hay que utilizar la librería estándar de Python:\n",
    "\n",
    "print('Versión de Python es 3.6')"
   ]
  },
  {
   "cell_type": "markdown",
   "metadata": {},
   "source": [
    "### Ejercicio 6\n",
    "\n",
    "Escribe un programa que imprima la fecha y la hora actuales:"
   ]
  },
  {
   "cell_type": "code",
   "execution_count": 13,
   "metadata": {},
   "outputs": [
    {
     "name": "stdout",
     "output_type": "stream",
     "text": [
      "2020-10-17 09:31:51.200901\n"
     ]
    }
   ],
   "source": [
    "'''Primero importamos la clase datatime desde el modulo datatime. No entiendo perfectamente como funciona pero creo una\n",
    "función donde creo una variable a la que le doy el valor de la funcion now() de la clase datetime. Luego simplemente hago\n",
    "que mi función imprima el valor de la variable'''\n",
    "\n",
    "from datetime import datetime\n",
    "def actual_date():\n",
    "    now = datetime.now() \n",
    "    print(now)\n",
    "    \n",
    "actual_date()\n"
   ]
  },
  {
   "cell_type": "markdown",
   "metadata": {},
   "source": [
    "### Ejercicio 7\n",
    "\n",
    "Escribe un programa que calcule el número de días entre estas dos fechas:\n",
    "\n",
    "05/10/1984\n",
    "\n",
    "01/03/2020\n"
   ]
  },
  {
   "cell_type": "code",
   "execution_count": null,
   "metadata": {},
   "outputs": [],
   "source": [
    "# Podemos crear una fecha de la siguiente forma:\n",
    "\n",
    "from datetime import date\n",
    "\n",
    "# El formato es: Año, mes, día:\n",
    "d = date(2018, 10, 21)\n",
    "print(d)"
   ]
  },
  {
   "cell_type": "code",
   "execution_count": 16,
   "metadata": {},
   "outputs": [
    {
     "name": "stdout",
     "output_type": "stream",
     "text": [
      "12931 days, 0:00:00\n"
     ]
    }
   ],
   "source": [
    "''' '''\n",
    "from datetime import date\n",
    "def difference(a, b):\n",
    "    new_date = b - a\n",
    "    print(new_date)\n",
    "\n",
    "date1 = date(1984, 10, 5)\n",
    "date2 = date(2020, 3, 1)\n",
    "\n",
    "difference(date1, date2)\n",
    "\n",
    "    "
   ]
  }
 ],
 "metadata": {
  "kernelspec": {
   "display_name": "Python 3",
   "language": "python",
   "name": "python3"
  },
  "language_info": {
   "codemirror_mode": {
    "name": "ipython",
    "version": 3
   },
   "file_extension": ".py",
   "mimetype": "text/x-python",
   "name": "python",
   "nbconvert_exporter": "python",
   "pygments_lexer": "ipython3",
   "version": "3.8.3"
  }
 },
 "nbformat": 4,
 "nbformat_minor": 4
}
