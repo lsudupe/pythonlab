{
 "cells": [
  {
   "cell_type": "markdown",
   "metadata": {},
   "source": [
    "# Programación para la Bioinformática"
   ]
  },
  {
   "cell_type": "markdown",
   "metadata": {},
   "source": [
    "Módulo 4: Librerías científicas en Python - NumPy - Ejercicios\n",
    "-------------------------------------------------"
   ]
  },
  {
   "cell_type": "markdown",
   "metadata": {},
   "source": [
    "Ejercicios y preguntas teóricas\n",
    "-------------------------------"
   ]
  },
  {
   "cell_type": "markdown",
   "metadata": {},
   "source": [
    "### Ejercicio 1\n",
    "Cread una matriz de 8x8 que tenga un patrón 0 (blancas)/1 (negras) como si se tratara de un tablero de ajedrez. El resultado ha de ser:\n",
    "\n",
    "```\n",
    "[[0 1 0 1 0 1 0 1]\n",
    "[1 0 1 0 1 0 1 0]\n",
    "[0 1 0 1 0 1 0 1]\n",
    "[1 0 1 0 1 0 1 0]\n",
    "[0 1 0 1 0 1 0 1]\n",
    "[1 0 1 0 1 0 1 0]\n",
    "[0 1 0 1 0 1 0 1]\n",
    "[1 0 1 0 1 0 1 0]]\n",
    "```"
   ]
  },
  {
   "cell_type": "code",
   "execution_count": 2,
   "metadata": {},
   "outputs": [
    {
     "name": "stdout",
     "output_type": "stream",
     "text": [
      "[[0 1 0 1 0 1 0 1]\n",
      " [1 0 1 0 1 0 1 0]\n",
      " [0 1 0 1 0 1 0 1]\n",
      " [1 0 1 0 1 0 1 0]\n",
      " [0 1 0 1 0 1 0 1]\n",
      " [1 0 1 0 1 0 1 0]\n",
      " [0 1 0 1 0 1 0 1]\n",
      " [1 0 1 0 1 0 1 0]]\n"
     ]
    }
   ],
   "source": [
    "# Importamos libreria numpy\n",
    "import numpy as np\n",
    "\n",
    "#Definimos una función que nos cree la matriz con el N que queramos\n",
    "\n",
    "def matrix(N):\n",
    "    x = np.zeros((N,N), dtype=int)  #Creamos la matrix N*N\n",
    "    \n",
    "    #Alternamos insertando 1 en las columnas y filas\n",
    "    x[1::2, ::2] = 1 #Le decimos que sustituya con 1 en cada columna desde el primer elemento de dos en dos \n",
    "                     # y que haga lo mismo por cada 2 filas\n",
    "    x[::2, 1::2] = 1 #Le decimos que sustituya con 1 por cada dos saltos en columna y\n",
    "                     #en cada fila empezando por el indice 1 saltando uno si otro no.\n",
    "    return x\n",
    "\n",
    "print(matrix(8))"
   ]
  },
  {
   "cell_type": "markdown",
   "metadata": {},
   "source": [
    "### Ejercicio 2\n",
    "Cread dos matrices de tamaño 5x4 y 4x4 con números reales aleatorios y obtened la matriz resultado de multiplicar la primera por la segunda:"
   ]
  },
  {
   "cell_type": "code",
   "execution_count": 3,
   "metadata": {},
   "outputs": [
    {
     "name": "stdout",
     "output_type": "stream",
     "text": [
      "[[553 439 375 398]\n",
      " [506 517 312 541]\n",
      " [215 141 201  58]\n",
      " [504 358 353 283]\n",
      " [435 482 430 356]]\n"
     ]
    }
   ],
   "source": [
    "# Creamos ambas matrices con numeros aleatorios hasta 20 y los tamaños indicados\n",
    "A = np.random.randint(20, size=(5,4))\n",
    "B = np.random.randint(20, size=(4,4))\n",
    "\n",
    "print(A.dot(B))   #mostramos la multiplicación\n"
   ]
  },
  {
   "cell_type": "markdown",
   "metadata": {},
   "source": [
    "### Ejercicio 3\n",
    "Calculad la media, la moda y la desviación estándar de un vector aleatorio de 150 elementos:"
   ]
  },
  {
   "cell_type": "code",
   "execution_count": 16,
   "metadata": {},
   "outputs": [
    {
     "name": "stdout",
     "output_type": "stream",
     "text": [
      "0.5000771991352667\n",
      "0.30172926858227417\n",
      "ModeResult(mode=array([0.01454083]), count=array([1]))\n"
     ]
    }
   ],
   "source": [
    "from scipy import stats  #Para calcular la moda importamos stats\n",
    "\n",
    "vector = np.random.rand(150)  #Creamos el array aleatorio de 150 elementos\n",
    "                              #Como no ponemos semilla de aleatorización, cada vez que le demos al run\n",
    "                              #obtendremos valores de array diferentes\n",
    "mean_vector = np.mean(vector)\n",
    "sd_vector = np.std(vector)\n",
    "mode_vector = stats.mode(vector)\n",
    "\n",
    "print(mean_vector)\n",
    "print(sd_vector)\n",
    "print(mode_vector)"
   ]
  },
  {
   "cell_type": "markdown",
   "metadata": {},
   "source": [
    "### Ejercicio 4\n",
    "Evaluad las funciones **coseno** y **arcocoseno** en el intervalo [-1,1] y con paso (resolución) de 0.025 y guardadlas en dos arrays (evaluar significa calcular):"
   ]
  },
  {
   "cell_type": "code",
   "execution_count": 4,
   "metadata": {},
   "outputs": [],
   "source": [
    "import numpy as np\n",
    "\n",
    "%matplotlib inline\n",
    "import numpy as np\n",
    "import matplotlib.pyplot as plt\n",
    "\n",
    "x = np.arange(-1, 1, 0.025)\n",
    "f1 = np.cos(x)\n",
    "f2 = np.arcsin(x)\n",
    "\n",
    "\n",
    "plt.plot(f1, label=\"cos(x)\")\n",
    "plt.plot(f2, label=\"arcosen(x)\")\n",
    "plt.legend(loc=4)\n",
    "\n",
    "plt.show()\n",
    "\n",
    "print(\"El coseno en el intervalo dado coge los siguientes valores; \",f1) \n",
    "print(\"El arcoseno; \",f2)"
   ]
  },
  {
   "cell_type": "markdown",
   "metadata": {},
   "source": [
    "### Ejercicio 5\n",
    "En química computacional, es muy útil simular mediante la técnica de dinámica molecular cómo pequeños ligandos (por ejemplo, la aspirina) se unen a otras proteínas. Esta unión entre una proteína y un ligando puede bloquear la unión de esa misma proteína junto a otras, potenciarla, etc.\n",
    "En nuestro caso, hemos obtenido dos capturas del movimiento de la molécula de aspirina y deseamos saber cuál es la distancia en términos de RMSD entre ambas, es decir, cuánto se ha movido entre una captura y la otra. Si representáramos ese movimiento, podríamos visualizar algo similar a esto:\n",
    "\n",
    "<img src=\"files/media/aspirin_structures.png\">\n",
    "\n",
    "A continuación, tenéis parte del código que deberéis completar para calcular la distancia RMSD que está definida de la siguiente forma: https://en.wikipedia.org/wiki/Root-mean-square_deviation_of_atomic_positions.  \n",
    "\n",
    "<img src=\"files/media/rmsd.svg\">\n",
    "\n",
    "La variable *estructura_1* contiene la información de las coordenadas de los átomos de la primera captura y *estructura_2* la segunda:"
   ]
  },
  {
   "cell_type": "code",
   "execution_count": 18,
   "metadata": {},
   "outputs": [
    {
     "name": "stdout",
     "output_type": "stream",
     "text": [
      "0.14653617300857816\n"
     ]
    }
   ],
   "source": [
    "import numpy as np\n",
    "import os\n",
    "from sklearn.metrics import mean_squared_error\n",
    "from math import sqrt\n",
    "\n",
    "\n",
    "\n",
    "# Estructura atómica en formato PDB\n",
    "estructura_1 = \"\"\"\n",
    "HETATM    1  C4  AIN A 141      20.988  20.013   8.918  1.00 32.08           C\n",
    "HETATM    2  C3  AIN A 141      19.732  19.385   8.857  1.00 32.34           C\n",
    "HETATM    3  C2  AIN A 141      19.527  18.104   9.636  1.00 33.22           C\n",
    "HETATM    4  C5  AIN A 141      21.977  19.496   9.752  1.00 31.39           C\n",
    "HETATM    5  H4  AIN A 141      21.183  20.890   8.320  1.00  0.00           H\n",
    "HETATM    6  C6  AIN A 141      21.761  18.347  10.492  1.00 31.52           C\n",
    "HETATM    7  H5  AIN A 141      22.932  19.991   9.830  1.00  0.00           H\n",
    "HETATM    8  C1  AIN A 141      20.570  17.658  10.434  1.00 32.96           C\n",
    "HETATM    9  H6  AIN A 141      22.537  17.967  11.139  1.00  0.00           H\n",
    "HETATM   10  H1  AIN A 141      20.440  16.756  11.015  1.00  0.00           H\n",
    "HETATM   11  C7  AIN A 141      18.679  19.893   7.921  1.00 32.12           C\n",
    "HETATM   12  O1  AIN A 141      18.856  21.012   7.231  1.00 28.52           O\n",
    "HETATM   13  O2  AIN A 141      17.582  19.373   7.818  1.00 32.90           O\n",
    "HETATM   14  O3  AIN A 141      18.290  17.505   9.519  1.00 35.01           O\n",
    "HETATM   15  C8  AIN A 141      17.117  17.595  10.410  1.00 35.75           C\n",
    "HETATM   16  O4  AIN A 141      16.308  16.678  10.381  1.00 37.46           O\n",
    "HETATM   17  C9  AIN A 141      16.879  18.753  11.344  1.00 36.44           C\n",
    "HETATM   18  H91 AIN A 141      15.952  18.591  11.895  1.00  0.00           H\n",
    "HETATM   19  H92 AIN A 141      17.709  18.830  12.046  1.00  0.00           H\n",
    "HETATM   20  H93 AIN A 141      16.803  19.676  10.769  1.00  0.00           H\n",
    "\"\"\"\n",
    "\n",
    "estructura_2 = \"\"\"\n",
    "HETATM    1  C4  AIN A 141      20.909  19.934   8.896  1.00 32.08           C\n",
    "HETATM    2  C3  AIN A 141      19.652  19.312   8.766  1.00 32.34           C\n",
    "HETATM    3  C2  AIN A 141      19.387  18.158   9.565  1.00 33.22           C\n",
    "HETATM    4  C5  AIN A 141      21.860  19.487   9.821  1.00 31.39           C\n",
    "HETATM    5  H4  AIN A 141      21.131  20.820   8.331  1.00  0.00           H\n",
    "HETATM    6  C6  AIN A 141      21.586  18.379  10.634  1.00 31.52           C\n",
    "HETATM    7  H5  AIN A 141      22.771  20.048   9.926  1.00  0.00           H\n",
    "HETATM    8  C1  AIN A 141      20.364  17.703  10.480  1.00 32.96           C\n",
    "HETATM    9  H6  AIN A 141      22.314  18.043  11.358  1.00  0.00           H\n",
    "HETATM   10  H1  AIN A 141      20.171  16.825  11.079  1.00  0.00           H\n",
    "HETATM   11  C7  AIN A 141      18.638  19.970   7.867  1.00 32.12           C\n",
    "HETATM   12  O1  AIN A 141      18.979  20.954   7.165  1.00 28.52           O\n",
    "HETATM   13  O2  AIN A 141      17.431  19.667   7.937  1.00 32.90           O\n",
    "HETATM   14  O3  AIN A 141      18.249  17.398   9.458  1.00 35.01           O\n",
    "HETATM   15  C8  AIN A 141      17.235  17.488  10.335  1.00 35.75           C\n",
    "HETATM   16  O4  AIN A 141      16.343  16.644  10.397  1.00 37.46           O\n",
    "HETATM   17  C9  AIN A 141      17.211  18.698  11.261  1.00 36.44           C\n",
    "HETATM   18  H91 AIN A 141      16.416  18.581  11.994  1.00  0.00           H\n",
    "HETATM   19  H92 AIN A 141      18.154  18.814  11.795  1.00  0.00           H\n",
    "HETATM   20  H93 AIN A 141      17.020  19.587  10.663  1.00  0.00           H\n",
    "\"\"\"\n",
    "\n",
    "def lee_coordenadas_atomo(linea):\n",
    "    \"\"\"Obtiene de una línea de texto en formato PDB las coordenadas en f\n",
    "    ormato numérico\"\"\"\n",
    "    if linea.startswith('HETATM'):\n",
    "        x = float(linea[30:38])    # Coordenada x\n",
    "        y = float(linea[38:46])    # Coordenada y\n",
    "        z = float(linea[46:54])    # Coordenada z\n",
    "        return [x, y, z]\n",
    "\n",
    "    \n",
    "def obtiene_coordenadas(estructura):\n",
    "    \"\"\"Transforma las coordenadas de cada átomo en un array numpy\"\"\"\n",
    "    coordenadas = []\n",
    "    for linea in estructura.split(os.linesep):\n",
    "        atomo = lee_coordenadas_atomo(linea)\n",
    "        if atomo:\n",
    "            coordenadas.append(atomo)\n",
    "    return np.array(coordenadas)\n",
    "\n",
    "\n",
    "def calcula_rmsd_numpy(coordenadas_1, coordenadas_2):\n",
    "    \"\"\"Calcula la RMSD entre dos conjuntos de coordenadas atómicas\"\"\"\n",
    "    # Aquí es dónde tenéis que completar el código. La solución puede ser \n",
    "    # una sola línea gracias a la capacidad de NumPy de hacer cálculos con \n",
    "    # matrices mediante \"broadcast\".\n",
    "    # Si no dais con una solución en una línea no hay problema :)\n",
    "    D = np.sqrt(mean_squared_error(coordenadas_1, coordenadas_2))\n",
    "    \n",
    "    return(D)\n",
    "\n",
    "\n",
    "coordenadas_1 = obtiene_coordenadas(estructura_1)\n",
    "coordenadas_2 = obtiene_coordenadas(estructura_2)\n",
    "\n",
    "rmsd = calcula_rmsd_numpy(coordenadas_1, coordenadas_2)\n",
    "\n",
    "print(rmsd)"
   ]
  },
  {
   "cell_type": "markdown",
   "metadata": {},
   "source": [
    "**El resultado del cálculo de la RMSD ha de ser de `0.253808096798`, no puede ser un número entero.**"
   ]
  },
  {
   "cell_type": "markdown",
   "metadata": {},
   "source": [
    "### Ejercicio 6\n",
    "\n",
    "Crea un vector de números enteros aleatorios de 50 posiciones y ordénalo de mayor a menor:"
   ]
  },
  {
   "cell_type": "code",
   "execution_count": 3,
   "metadata": {},
   "outputs": [
    {
     "name": "stdout",
     "output_type": "stream",
     "text": [
      "[0.95363623 0.92995587 0.92889528 0.91667095 0.91531036 0.8929702\n",
      " 0.88129908 0.84597823 0.83946464 0.83942129 0.81913454 0.81067029\n",
      " 0.80397044 0.7195951  0.65736452 0.64636463 0.64453107 0.64086415\n",
      " 0.6373269  0.60767995 0.60348292 0.58116416 0.54454363 0.51763941\n",
      " 0.49336885 0.47314036 0.4411334  0.41617093 0.37269783 0.34632273\n",
      " 0.33032782 0.30709786 0.30186218 0.24986533 0.24495406 0.22673309\n",
      " 0.22441642 0.20612408 0.19781532 0.16591149 0.13272304 0.13057715\n",
      " 0.12887051 0.12423339 0.08610101 0.08070359 0.05710881 0.04519915\n",
      " 0.03487873 0.03302908]\n"
     ]
    }
   ],
   "source": [
    "import numpy as np\n",
    "def aleatorio_ordenado(N):\n",
    "    x = np.random.rand(N)    # Creamos un array de valores aleatorios con las posiciones que queramos\n",
    "    return(np.sort(x)[::-1]) # Con sort() ordenamos los valores y con [::-1] lo hacemos de forma descendente\n",
    "\n",
    "print(aleatorio_ordenado(50))\n",
    "\n"
   ]
  },
  {
   "cell_type": "markdown",
   "metadata": {},
   "source": [
    "### Ejercicio 7\n",
    "\n",
    "Dado un vector `Z` con números aleatorios entre 0 y 1 de 50 posiciones y un valor `v` aleatorio entre 0 y 1, encuentra cuál es el valor en `Z` más próximo a `v`:"
   ]
  },
  {
   "cell_type": "code",
   "execution_count": 7,
   "metadata": {},
   "outputs": [
    {
     "name": "stdout",
     "output_type": "stream",
     "text": [
      "0.1275029256411765\n"
     ]
    }
   ],
   "source": [
    "import numpy as np\n",
    "\n",
    "Z = np.random.random(50)\n",
    "v = np.random.uniform(0,1)\n",
    "\n",
    "def proximo(a,b):\n",
    "    indice = (np.abs(a-b)).argmin()\n",
    "    return a[indice]\n",
    "    \n",
    "print(proximo(Z,v))\n",
    "#Calculamos el valor absoluto de cada elemento del array menos el valor que añadamos\n",
    "#La función argmin() nos devuelve la posición en el array de la resta que nos da el menos valor absoluto\n",
    "#devolvemos el valor del array cuyo indice hemos identificado como la posición del valor de menor diferencia"
   ]
  },
  {
   "cell_type": "markdown",
   "metadata": {},
   "source": [
    "### Ejercicio 8\n",
    "\n",
    "En un vector de 100 posiciones, encuentra cuál es la suma de todos los elementos que sean pares y la suma de todos los elementos que sean impares:"
   ]
  },
  {
   "cell_type": "code",
   "execution_count": null,
   "metadata": {},
   "outputs": [],
   "source": []
  },
  {
   "cell_type": "code",
   "execution_count": 41,
   "metadata": {},
   "outputs": [
    {
     "name": "stdout",
     "output_type": "stream",
     "text": [
      "{'La suma de los valores pares es': 9856, 'y la suma de los valores impares': 14966}\n"
     ]
    }
   ],
   "source": [
    "import numpy as np\n",
    "\n",
    "Z = np.random.randint(0,500,100)\n",
    "\n",
    "def sumas(x):\n",
    "    suma_pares = 0\n",
    "    suma_impares = 0\n",
    "    for elem in list(x):\n",
    "        if elem % 2 == 0:\n",
    "            suma_pares = suma_pares + elem\n",
    "        else:\n",
    "            suma_impares = suma_impares + elem\n",
    "    return {\"La suma de los valores pares es\": suma_pares ,\"y la suma de los valores impares\": suma_impares}\n",
    "\n",
    "#Creo una función que va iterando sobre el array y comprobando si al dividirlos por dos\n",
    "#me da 0 o algun valor. Si me da 0 es par, por lo que sumo el valor a suma_pares\n",
    "#si no, lo añado a suma_impares\n",
    "print(sumas(Z))\n"
   ]
  }
 ],
 "metadata": {
  "kernelspec": {
   "display_name": "Python 3",
   "language": "python",
   "name": "python3"
  },
  "language_info": {
   "codemirror_mode": {
    "name": "ipython",
    "version": 3
   },
   "file_extension": ".py",
   "mimetype": "text/x-python",
   "name": "python",
   "nbconvert_exporter": "python",
   "pygments_lexer": "ipython3",
   "version": "3.8.5"
  }
 },
 "nbformat": 4,
 "nbformat_minor": 1
}
