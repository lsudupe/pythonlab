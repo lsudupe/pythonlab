{
 "cells": [
  {
   "cell_type": "markdown",
   "metadata": {},
   "source": [
    "# Programación para la Bioinformática"
   ]
  },
  {
   "cell_type": "markdown",
   "metadata": {},
   "source": [
    "Módulo 4: Librerías científicas en Python - Scipy - Ejercicios\n",
    "-------------------------------------------------"
   ]
  },
  {
   "cell_type": "markdown",
   "metadata": {},
   "source": [
    "Ejercicios\n",
    "----------\n",
    "\n",
    "A continuación tenéis el único ejercicio a resolver en esta parte del módulo. Dada la especificidad de los algoritmos que se implementan en la librería Scipy, hemos seleccionado un problema más simple que los mostrados como ejemplo.\n",
    "\n",
    "### Ejercicio 1: Calculando los átomos en la interfaz de unión de dos proteínas\n",
    "Dos proteínas A y B se unen para formar un complejo proteico. Se define la interfaz de unión entre A y B como los átomos de A que están a una distancia de 4Å (Angstroms) o menos de cualquier átomo de B. En la siguiente figura, la proteína A está representada en azul y la proteína B en naranja. Los átomos de B que están en contacto con algún átomo de A se han coloreado en verde:\n",
    "\n",
    "<img src=\"files/media/interfaz_1ppe.png\">\n",
    "\n",
    "A continuación, tenéis el código que tendréis que completar. Tenéis que calcular el número de átomos de A y de B que están en contacto con átomos de B y de A respectivamente y el número total de átomos en la interfaz. **Pista**: podéis utilizar la función _scipy.spatial.distance.cdist_ (http://docs.scipy.org/doc/scipy/reference/generated/scipy.spatial.distance.cdist.html#scipy.spatial.distance.cdist) y la función _numpy.where_.\n",
    "\n"
   ]
  },
  {
   "cell_type": "code",
   "execution_count": 1,
   "metadata": {},
   "outputs": [
    {
     "ename": "FileNotFoundError",
     "evalue": "[Errno 2] No such file or directory: 'data/1PPE_rec.pdb'",
     "output_type": "error",
     "traceback": [
      "\u001b[0;31m---------------------------------------------------------------------------\u001b[0m",
      "\u001b[0;31mFileNotFoundError\u001b[0m                         Traceback (most recent call last)",
      "\u001b[0;32m<ipython-input-1-c23d9698bc35>\u001b[0m in \u001b[0;36m<module>\u001b[0;34m\u001b[0m\n\u001b[1;32m     27\u001b[0m \u001b[0;34m\u001b[0m\u001b[0m\n\u001b[1;32m     28\u001b[0m \u001b[0;31m# Coordenadas_1 tiene las coordenadas de la proteína A en formato numpy\u001b[0m\u001b[0;34m\u001b[0m\u001b[0;34m\u001b[0m\u001b[0;34m\u001b[0m\u001b[0m\n\u001b[0;32m---> 29\u001b[0;31m \u001b[0mcoordenadas_1\u001b[0m \u001b[0;34m=\u001b[0m \u001b[0mobtiene_coordenadas\u001b[0m\u001b[0;34m(\u001b[0m\u001b[0;34m'data/1PPE_rec.pdb'\u001b[0m\u001b[0;34m)\u001b[0m\u001b[0;34m\u001b[0m\u001b[0;34m\u001b[0m\u001b[0m\n\u001b[0m\u001b[1;32m     30\u001b[0m \u001b[0;34m\u001b[0m\u001b[0m\n\u001b[1;32m     31\u001b[0m \u001b[0;31m# Coordenadas_2 tiene las coordenadas de la proteína B en formato numpy\u001b[0m\u001b[0;34m\u001b[0m\u001b[0;34m\u001b[0m\u001b[0;34m\u001b[0m\u001b[0m\n",
      "\u001b[0;32m<ipython-input-1-c23d9698bc35>\u001b[0m in \u001b[0;36mobtiene_coordenadas\u001b[0;34m(estructura)\u001b[0m\n\u001b[1;32m     18\u001b[0m     átomos que contiene\"\"\"\n\u001b[1;32m     19\u001b[0m     \u001b[0mcoordenadas\u001b[0m \u001b[0;34m=\u001b[0m \u001b[0;34m[\u001b[0m\u001b[0;34m]\u001b[0m\u001b[0;34m\u001b[0m\u001b[0;34m\u001b[0m\u001b[0m\n\u001b[0;32m---> 20\u001b[0;31m     \u001b[0;32mwith\u001b[0m \u001b[0mopen\u001b[0m\u001b[0;34m(\u001b[0m\u001b[0mestructura\u001b[0m\u001b[0;34m)\u001b[0m \u001b[0;32mas\u001b[0m \u001b[0minput\u001b[0m\u001b[0;34m:\u001b[0m\u001b[0;34m\u001b[0m\u001b[0;34m\u001b[0m\u001b[0m\n\u001b[0m\u001b[1;32m     21\u001b[0m         \u001b[0mlineas\u001b[0m \u001b[0;34m=\u001b[0m \u001b[0;34m[\u001b[0m\u001b[0mlinea\u001b[0m\u001b[0;34m.\u001b[0m\u001b[0mrstrip\u001b[0m\u001b[0;34m(\u001b[0m\u001b[0mos\u001b[0m\u001b[0;34m.\u001b[0m\u001b[0mlinesep\u001b[0m\u001b[0;34m)\u001b[0m \u001b[0;32mfor\u001b[0m \u001b[0mlinea\u001b[0m \u001b[0;32min\u001b[0m \u001b[0minput\u001b[0m\u001b[0;34m.\u001b[0m\u001b[0mreadlines\u001b[0m\u001b[0;34m(\u001b[0m\u001b[0;34m)\u001b[0m\u001b[0;34m]\u001b[0m\u001b[0;34m\u001b[0m\u001b[0;34m\u001b[0m\u001b[0m\n\u001b[1;32m     22\u001b[0m         \u001b[0;32mfor\u001b[0m \u001b[0mlinea\u001b[0m \u001b[0;32min\u001b[0m \u001b[0mlineas\u001b[0m\u001b[0;34m:\u001b[0m\u001b[0;34m\u001b[0m\u001b[0;34m\u001b[0m\u001b[0m\n",
      "\u001b[0;31mFileNotFoundError\u001b[0m: [Errno 2] No such file or directory: 'data/1PPE_rec.pdb'"
     ]
    }
   ],
   "source": [
    "import numpy as np\n",
    "import os\n",
    "import scipy.spatial\n",
    "\n",
    "\n",
    "def lee_coordenadas_atomo(linea):\n",
    "    \"\"\"Interpreta las coordenadas de una línea de un fichero PDB que empiece por \n",
    "    ATOM (es un átomo)\"\"\"\n",
    "    if linea.startswith('ATOM  '):\n",
    "        x = float(linea[30:38])\n",
    "        y = float(linea[38:46])\n",
    "        z = float(linea[46:54])\n",
    "        return [x, y, z]\n",
    "\n",
    "    \n",
    "def obtiene_coordenadas(estructura):\n",
    "    \"\"\"Lee una estructura (fichero PDB) y obtiene las coordenadas de los \n",
    "    átomos que contiene\"\"\"\n",
    "    coordenadas = []\n",
    "    with open(estructura) as input:\n",
    "        lineas = [linea.rstrip(os.linesep) for linea in input.readlines()]\n",
    "        for linea in lineas:\n",
    "            atomo = lee_coordenadas_atomo(linea)\n",
    "            if atomo:\n",
    "                coordenadas.append(atomo)\n",
    "    return np.array(coordenadas)\n",
    "\n",
    "# Coordenadas_1 tiene las coordenadas de la proteína A en formato numpy\n",
    "coordenadas_1 = obtiene_coordenadas('data/1PPE_rec.pdb')\n",
    "\n",
    "# Coordenadas_2 tiene las coordenadas de la proteína B en formato numpy\n",
    "coordenadas_2 = obtiene_coordenadas('data/1PPE_lig.pdb')\n",
    "\n",
    "# Código a completar:\n",
    "def distancia(a,b,n):\n",
    "    a = MDAnalysis.analysis.distances.between(group, A, B, distance)\n",
    "atomos_A_B = 0\n",
    "print(\"Número de átomos de A en contacto con B: \", atomos_A_B)\n",
    "\n",
    "atomos_B_A = 0\n",
    "print(\"Número de átomos de B en contacto con A: \", atomos_B_A)\n",
    "\n",
    "# Finalmente, el número de átomos total será la suma de ambos:\n",
    "print(\"Número total de átomos en contacto: \", atomos_A_B + atomos_B_A)"
   ]
  },
  {
   "cell_type": "code",
   "execution_count": null,
   "metadata": {},
   "outputs": [],
   "source": []
  }
 ],
 "metadata": {
  "kernelspec": {
   "display_name": "Python 3",
   "language": "python",
   "name": "python3"
  },
  "language_info": {
   "codemirror_mode": {
    "name": "ipython",
    "version": 3
   },
   "file_extension": ".py",
   "mimetype": "text/x-python",
   "name": "python",
   "nbconvert_exporter": "python",
   "pygments_lexer": "ipython3",
   "version": "3.8.5"
  }
 },
 "nbformat": 4,
 "nbformat_minor": 1
}
