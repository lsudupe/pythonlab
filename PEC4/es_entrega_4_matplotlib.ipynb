{
 "cells": [
  {
   "cell_type": "markdown",
   "metadata": {},
   "source": [
    "# Programación para la Bioinformática"
   ]
  },
  {
   "cell_type": "markdown",
   "metadata": {},
   "source": [
    "Módulo 4: Librerías científicas en Python - Matplotlib - Ejercicios\n",
    "------------------------------------------------------"
   ]
  },
  {
   "cell_type": "markdown",
   "metadata": {},
   "source": [
    "Ejercicios y preguntas teóricas\n",
    "-------------------------------\n",
    "\n",
    "**IMPORTANTE: Recordad que es necesaria la línea `%matplotlib inline` al principio de cada celdilla de código para que podáis visualizar los gráficos en este notebook.**"
   ]
  },
  {
   "cell_type": "markdown",
   "metadata": {},
   "source": [
    "### Ejercicio 1\n",
    "\n",
    "Representa en un único gráfico las funciones seno y arcoseno en el intervalo [-180.0, 180.0]"
   ]
  },
  {
   "cell_type": "code",
   "execution_count": 1,
   "metadata": {},
   "outputs": [],
   "source": [
    "%matplotlib inline\n",
    "\n",
    "# Respuesta"
   ]
  },
  {
   "cell_type": "markdown",
   "metadata": {},
   "source": [
    "### Ejercicio 2\n",
    "\n",
    "Representa en un gráfico 3D la función `f(x,y) = cos(x) + 2*sen(y)` en el intervalo [-2*pi, 2*pi]\n",
    "\n",
    "**Nota:** Se trata de una superfície."
   ]
  },
  {
   "cell_type": "code",
   "execution_count": 2,
   "metadata": {},
   "outputs": [],
   "source": [
    "%matplotlib inline\n",
    "\n",
    "# Respuesta"
   ]
  },
  {
   "cell_type": "markdown",
   "metadata": {},
   "source": [
    "### Ejercicio 3\n",
    "Representa la función que quieras de la forma que consideres. Sé creativo a la hora de escoger la función a representar y el intervalo de valores."
   ]
  },
  {
   "cell_type": "code",
   "execution_count": 3,
   "metadata": {},
   "outputs": [],
   "source": [
    "%matplotlib inline\n",
    "\n",
    "# Respuesta"
   ]
  },
  {
   "cell_type": "markdown",
   "metadata": {},
   "source": [
    "### Ejercicio 4\n",
    "\n",
    "Dados los siguientes datos de meteorología registrados en el aeropuerto de Barcelona, representa en uno o varios gráficos los valores de temperatura media anual, máxima, mínima, media de lluvias mensual y humedad relativa.\n",
    "\n",
    "Las posiciones del vector `meteo` son las siguientes:\n",
    "\n",
    "* Nombre mes\n",
    "* Temperatura media anual del mes (°C)\n",
    "* Temperatura máxima media (°C)\n",
    "* Temperatura mínima media (°C)\n",
    "* Media de lluvias mensual (mm)\n",
    "* Humedad media relativa (%)\n"
   ]
  },
  {
   "cell_type": "code",
   "execution_count": 4,
   "metadata": {},
   "outputs": [],
   "source": [
    "%matplotlib inline\n",
    "\n",
    "meteo = [[\"January\", 9.2, 13.6, 4.7, 37, 70],\n",
    "[\"February\",9.9, 14.3, 5.4, 35, 70],\n",
    "[\"March\", 11.8, 16.1, 7.4, 36, 70],\n",
    "[\"April\", 13.7, 18.0, 9.4, 40, 69],\n",
    "[\"May\", 16.9, 21.1, 12.8, 47, 70],\n",
    "[\"June\", 20.9, 24.9, 16.8, 30, 68],\n",
    "[\"July\", 23.9, 28.0, 19.8, 21, 67],\n",
    "[\"August\", 24.4, 28.5, 20.2, 62, 68],\n",
    "[\"September\", 21.7, 26.0, 17.4, 81, 70],\n",
    "[\"October\", 17.8, 22.1, 13.5, 91, 73],\n",
    "[\"November\", 13.0, 17.3, 8.6, 59, 71],\n",
    "[\"December\", 10.0, 14.3, 5.7, 40, 69]]\n",
    "\n",
    "# Respuesta"
   ]
  }
 ],
 "metadata": {
  "kernelspec": {
   "display_name": "Python 3",
   "language": "python",
   "name": "python3"
  },
  "language_info": {
   "codemirror_mode": {
    "name": "ipython",
    "version": 3
   },
   "file_extension": ".py",
   "mimetype": "text/x-python",
   "name": "python",
   "nbconvert_exporter": "python",
   "pygments_lexer": "ipython3",
   "version": "3.8.5"
  }
 },
 "nbformat": 4,
 "nbformat_minor": 1
}
