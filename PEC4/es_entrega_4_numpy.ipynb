{
 "cells": [
  {
   "cell_type": "markdown",
   "metadata": {},
   "source": [
    "# Programación para la Bioinformática"
   ]
  },
  {
   "cell_type": "markdown",
   "metadata": {},
   "source": [
    "Módulo 4: Librerías científicas en Python - NumPy - Ejercicios\n",
    "-------------------------------------------------"
   ]
  },
  {
   "cell_type": "markdown",
   "metadata": {},
   "source": [
    "Ejercicios y preguntas teóricas\n",
    "-------------------------------"
   ]
  },
  {
   "cell_type": "markdown",
   "metadata": {},
   "source": [
    "### Ejercicio 1\n",
    "Cread una matriz de 8x8 que tenga un patrón 0 (blancas)/1 (negras) como si se tratara de un tablero de ajedrez. El resultado ha de ser:\n",
    "\n",
    "```\n",
    "[[0 1 0 1 0 1 0 1]\n",
    "[1 0 1 0 1 0 1 0]\n",
    "[0 1 0 1 0 1 0 1]\n",
    "[1 0 1 0 1 0 1 0]\n",
    "[0 1 0 1 0 1 0 1]\n",
    "[1 0 1 0 1 0 1 0]\n",
    "[0 1 0 1 0 1 0 1]\n",
    "[1 0 1 0 1 0 1 0]]\n",
    "```"
   ]
  },
  {
   "cell_type": "code",
   "execution_count": 1,
   "metadata": {},
   "outputs": [],
   "source": [
    "# Respuesta"
   ]
  },
  {
   "cell_type": "markdown",
   "metadata": {},
   "source": [
    "### Ejercicio 2\n",
    "Cread dos matrices de tamaño 5x4 y 4x4 con números reales aleatorios y obtened la matriz resultado de multiplicar la primera por la segunda:"
   ]
  },
  {
   "cell_type": "code",
   "execution_count": 2,
   "metadata": {},
   "outputs": [],
   "source": [
    "# Respuesta"
   ]
  },
  {
   "cell_type": "markdown",
   "metadata": {},
   "source": [
    "### Ejercicio 3\n",
    "Calculad la media, la moda y la desviación estándar de un vector aleatorio de 150 elementos:"
   ]
  },
  {
   "cell_type": "code",
   "execution_count": 3,
   "metadata": {},
   "outputs": [],
   "source": [
    "# Respuesta"
   ]
  },
  {
   "cell_type": "markdown",
   "metadata": {},
   "source": [
    "### Ejercicio 4\n",
    "Evaluad las funciones **coseno** y **arcocoseno** en el intervalo [-1,1] y con paso (resolución) de 0.025 y guardadlas en dos arrays (evaluar significa calcular):"
   ]
  },
  {
   "cell_type": "code",
   "execution_count": 4,
   "metadata": {},
   "outputs": [],
   "source": [
    "# Respuesta"
   ]
  },
  {
   "cell_type": "markdown",
   "metadata": {},
   "source": [
    "### Ejercicio 5\n",
    "En química computacional, es muy útil simular mediante la técnica de dinámica molecular cómo pequeños ligandos (por ejemplo, la aspirina) se unen a otras proteínas. Esta unión entre una proteína y un ligando puede bloquear la unión de esa misma proteína junto a otras, potenciarla, etc.\n",
    "En nuestro caso, hemos obtenido dos capturas del movimiento de la molécula de aspirina y deseamos saber cuál es la distancia en términos de RMSD entre ambas, es decir, cuánto se ha movido entre una captura y la otra. Si representáramos ese movimiento, podríamos visualizar algo similar a esto:\n",
    "\n",
    "<img src=\"files/media/aspirin_structures.png\">\n",
    "\n",
    "A continuación, tenéis parte del código que deberéis completar para calcular la distancia RMSD que está definida de la siguiente forma: https://en.wikipedia.org/wiki/Root-mean-square_deviation_of_atomic_positions.  \n",
    "\n",
    "<img src=\"files/media/rmsd.svg\">\n",
    "\n",
    "La variable *estructura_1* contiene la información de las coordenadas de los átomos de la primera captura y *estructura_2* la segunda:"
   ]
  },
  {
   "cell_type": "code",
   "execution_count": 5,
   "metadata": {},
   "outputs": [
    {
     "name": "stdout",
     "output_type": "stream",
     "text": [
      "0.0\n"
     ]
    }
   ],
   "source": [
    "import numpy as np\n",
    "import os\n",
    "\n",
    "\n",
    "# Estructura atómica en formato PDB\n",
    "estructura_1 = \"\"\"\n",
    "HETATM    1  C4  AIN A 141      20.988  20.013   8.918  1.00 32.08           C\n",
    "HETATM    2  C3  AIN A 141      19.732  19.385   8.857  1.00 32.34           C\n",
    "HETATM    3  C2  AIN A 141      19.527  18.104   9.636  1.00 33.22           C\n",
    "HETATM    4  C5  AIN A 141      21.977  19.496   9.752  1.00 31.39           C\n",
    "HETATM    5  H4  AIN A 141      21.183  20.890   8.320  1.00  0.00           H\n",
    "HETATM    6  C6  AIN A 141      21.761  18.347  10.492  1.00 31.52           C\n",
    "HETATM    7  H5  AIN A 141      22.932  19.991   9.830  1.00  0.00           H\n",
    "HETATM    8  C1  AIN A 141      20.570  17.658  10.434  1.00 32.96           C\n",
    "HETATM    9  H6  AIN A 141      22.537  17.967  11.139  1.00  0.00           H\n",
    "HETATM   10  H1  AIN A 141      20.440  16.756  11.015  1.00  0.00           H\n",
    "HETATM   11  C7  AIN A 141      18.679  19.893   7.921  1.00 32.12           C\n",
    "HETATM   12  O1  AIN A 141      18.856  21.012   7.231  1.00 28.52           O\n",
    "HETATM   13  O2  AIN A 141      17.582  19.373   7.818  1.00 32.90           O\n",
    "HETATM   14  O3  AIN A 141      18.290  17.505   9.519  1.00 35.01           O\n",
    "HETATM   15  C8  AIN A 141      17.117  17.595  10.410  1.00 35.75           C\n",
    "HETATM   16  O4  AIN A 141      16.308  16.678  10.381  1.00 37.46           O\n",
    "HETATM   17  C9  AIN A 141      16.879  18.753  11.344  1.00 36.44           C\n",
    "HETATM   18  H91 AIN A 141      15.952  18.591  11.895  1.00  0.00           H\n",
    "HETATM   19  H92 AIN A 141      17.709  18.830  12.046  1.00  0.00           H\n",
    "HETATM   20  H93 AIN A 141      16.803  19.676  10.769  1.00  0.00           H\n",
    "\"\"\"\n",
    "\n",
    "estructura_2 = \"\"\"\n",
    "HETATM    1  C4  AIN A 141      20.909  19.934   8.896  1.00 32.08           C\n",
    "HETATM    2  C3  AIN A 141      19.652  19.312   8.766  1.00 32.34           C\n",
    "HETATM    3  C2  AIN A 141      19.387  18.158   9.565  1.00 33.22           C\n",
    "HETATM    4  C5  AIN A 141      21.860  19.487   9.821  1.00 31.39           C\n",
    "HETATM    5  H4  AIN A 141      21.131  20.820   8.331  1.00  0.00           H\n",
    "HETATM    6  C6  AIN A 141      21.586  18.379  10.634  1.00 31.52           C\n",
    "HETATM    7  H5  AIN A 141      22.771  20.048   9.926  1.00  0.00           H\n",
    "HETATM    8  C1  AIN A 141      20.364  17.703  10.480  1.00 32.96           C\n",
    "HETATM    9  H6  AIN A 141      22.314  18.043  11.358  1.00  0.00           H\n",
    "HETATM   10  H1  AIN A 141      20.171  16.825  11.079  1.00  0.00           H\n",
    "HETATM   11  C7  AIN A 141      18.638  19.970   7.867  1.00 32.12           C\n",
    "HETATM   12  O1  AIN A 141      18.979  20.954   7.165  1.00 28.52           O\n",
    "HETATM   13  O2  AIN A 141      17.431  19.667   7.937  1.00 32.90           O\n",
    "HETATM   14  O3  AIN A 141      18.249  17.398   9.458  1.00 35.01           O\n",
    "HETATM   15  C8  AIN A 141      17.235  17.488  10.335  1.00 35.75           C\n",
    "HETATM   16  O4  AIN A 141      16.343  16.644  10.397  1.00 37.46           O\n",
    "HETATM   17  C9  AIN A 141      17.211  18.698  11.261  1.00 36.44           C\n",
    "HETATM   18  H91 AIN A 141      16.416  18.581  11.994  1.00  0.00           H\n",
    "HETATM   19  H92 AIN A 141      18.154  18.814  11.795  1.00  0.00           H\n",
    "HETATM   20  H93 AIN A 141      17.020  19.587  10.663  1.00  0.00           H\n",
    "\"\"\"\n",
    "\n",
    "def lee_coordenadas_atomo(linea):\n",
    "    \"\"\"Obtiene de una línea de texto en formato PDB las coordenadas en f\n",
    "    ormato numérico\"\"\"\n",
    "    if linea.startswith('HETATM'):\n",
    "        x = float(linea[30:38])    # Coordenada x\n",
    "        y = float(linea[38:46])    # Coordenada y\n",
    "        z = float(linea[46:54])    # Coordenada z\n",
    "        return [x, y, z]\n",
    "\n",
    "    \n",
    "def obtiene_coordenadas(estructura):\n",
    "    \"\"\"Transforma las coordenadas de cada átomo en un array numpy\"\"\"\n",
    "    coordenadas = []\n",
    "    for linea in estructura.split(os.linesep):\n",
    "        atomo = lee_coordenadas_atomo(linea)\n",
    "        if atomo:\n",
    "            coordenadas.append(atomo)\n",
    "    return np.array(coordenadas)\n",
    "\n",
    "\n",
    "def calcula_rmsd_numpy(coordenadas_1, coordenadas_2):\n",
    "    \"\"\"Calcula la RMSD entre dos conjuntos de coordenadas atómicas\"\"\"\n",
    "    # Aquí es dónde tenéis que completar el código. La solución puede ser \n",
    "    # una sola línea gracias a la capacidad de NumPy de hacer cálculos con \n",
    "    # matrices mediante \"broadcast\".\n",
    "    # Si no dais con una solución en una línea no hay problema :)\n",
    "    rmsd = 0.0 # Esta es la línea a modificar con vuestra solución\n",
    "    return rmsd\n",
    "\n",
    "\n",
    "coordenadas_1 = obtiene_coordenadas(estructura_1)\n",
    "coordenadas_2 = obtiene_coordenadas(estructura_2)\n",
    "\n",
    "rmsd = calcula_rmsd_numpy(coordenadas_1, coordenadas_2)\n",
    "\n",
    "print(rmsd)"
   ]
  },
  {
   "cell_type": "markdown",
   "metadata": {},
   "source": [
    "**El resultado del cálculo de la RMSD ha de ser de `0.253808096798`, no puede ser un número entero.**"
   ]
  },
  {
   "cell_type": "markdown",
   "metadata": {},
   "source": [
    "### Ejercicio 6\n",
    "\n",
    "Crea un vector de números enteros aleatorios de 50 posiciones y ordénalo de mayor a menor:"
   ]
  },
  {
   "cell_type": "code",
   "execution_count": 6,
   "metadata": {},
   "outputs": [],
   "source": [
    "# Respuesta"
   ]
  },
  {
   "cell_type": "markdown",
   "metadata": {},
   "source": [
    "### Ejercicio 7\n",
    "\n",
    "Dado un vector `Z` con números aleatorios entre 0 y 1 de 50 posiciones y un valor `v` aleatorio entre 0 y 1, encuentra cuál es el valor en `Z` más próximo a `v`:"
   ]
  },
  {
   "cell_type": "code",
   "execution_count": 1,
   "metadata": {},
   "outputs": [],
   "source": [
    "import numpy as np\n",
    "\n",
    "Z = np.random.random(50)\n",
    "v = np.random.uniform(0,1)\n",
    "\n",
    "# Respuesta"
   ]
  },
  {
   "cell_type": "markdown",
   "metadata": {},
   "source": [
    "### Ejercicio 8\n",
    "\n",
    "En un vector de 100 posiciones, encuentra cuál es la suma de todos los elementos que sean pares y la suma de todos los elementos que sean impares:"
   ]
  },
  {
   "cell_type": "code",
   "execution_count": 2,
   "metadata": {},
   "outputs": [
    {
     "name": "stdout",
     "output_type": "stream",
     "text": [
      "[ 11 236  90 404 259 483 126 222  95  98 230 327 246 305 258 302 268  39\n",
      " 169 287 441 150 149 388  39 375 415 475 115 350 222 481 332 415 152 396\n",
      " 381  23 110  60 129 348 499 239  45 372  88 497  78 365  11 315 216 185\n",
      " 292 226 148 266 159 449 286  37 470  52 320 452 390 280 483   4  20 368\n",
      " 130  69  53 332 352 302 209  61 127 195 141 262  96  74 276 131  21   1\n",
      " 280 307 111 368 262 235 480 172 314 246]\n"
     ]
    }
   ],
   "source": [
    "import numpy as np\n",
    "\n",
    "Z = np.random.randint(0,500,100)\n",
    "\n",
    "print(Z)\n",
    "\n",
    "# Respuesta"
   ]
  }
 ],
 "metadata": {
  "kernelspec": {
   "display_name": "Python 3",
   "language": "python",
   "name": "python3"
  },
  "language_info": {
   "codemirror_mode": {
    "name": "ipython",
    "version": 3
   },
   "file_extension": ".py",
   "mimetype": "text/x-python",
   "name": "python",
   "nbconvert_exporter": "python",
   "pygments_lexer": "ipython3",
   "version": "3.8.5"
  }
 },
 "nbformat": 4,
 "nbformat_minor": 1
}
