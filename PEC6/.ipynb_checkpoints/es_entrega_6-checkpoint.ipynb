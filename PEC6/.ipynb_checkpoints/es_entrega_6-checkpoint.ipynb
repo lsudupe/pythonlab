{
 "cells": [
  {
   "cell_type": "markdown",
   "metadata": {},
   "source": [
    "# Programación para la Bioinformática\n",
    "\n",
    "## Unidad 6: Testing y calidad del software\n",
    "\n",
    "### Ejercicios y preguntas teóricas"
   ]
  },
  {
   "cell_type": "markdown",
   "metadata": {},
   "source": [
    "### Pregunta téorica 1\n",
    "\n",
    "Enumera y explica en qué consisten otras librerías Python para probar código (mínimo 3):"
   ]
  },
  {
   "cell_type": "markdown",
   "metadata": {},
   "source": [
    "1. Hypothesis.\n",
    "En vez de definir una serie de valores de entrada para cada unidad de software, esta libreria utiliza estrategias de búsqueda para inyectar parámetros qye puedan causar anomalías en los elementos de código.\n",
    "\n",
    "2. Pytest.\n",
    "Un sencillo framework que simplifica el proceso de las pruebas unitarias presentando una simple manera de escalar en proyectos que crecen en complejidad sin perderse a otro framework distinto\n",
    "\n",
    "3. Hamcrest.\n",
    "Es una libreria que nos da herramientas que podemos utilizar para escribir nuestros test con un lenguaje más cercano al natural de manera que se hace más sencillo comprender que están comprobando los test\n",
    "\n",
    "4. Tox.\n",
    "Una herramineta que te permite testear tu codigo en diferentes entornos con las versiones python (2.7, 3.5..) que prefieras\n",
    "\n",
    "5. Robot.\n",
    "Es un framework de automatización de tests de desarrollo dirigido y de automatización de procesos robóticos que sirve para testeo de dispositivos, sistemas software y protocolos mediante interfaces gráficas y APIs entre otras cosas.\n"
   ]
  },
  {
   "cell_type": "markdown",
   "metadata": {},
   "source": [
    "### Pregunta téorica 2\n",
    "\n",
    "Explica en tus propias palabras el concepto de **cobertura de código** (*test coverage* en Inglés):"
   ]
  },
  {
   "cell_type": "markdown",
   "metadata": {},
   "source": [
    "Se puede decir que es una medida de cuantas lineas o bloques de tu codigo se han ejecutado mientrras los test automatizados estan corriendo. Hay variaedad de criterios que se pueden medir pero normalmente se refiere a las diversas rutas, condiciones, funciones y declaraciones dentro de tu codigo."
   ]
  },
  {
   "cell_type": "markdown",
   "metadata": {},
   "source": [
    "### Pregunta téorica 3\n",
    "\n",
    "Aunque nos hemos centrado en los tests unitarios, hemos comentado que existen otros tipos de tests. Enumera **al menos dos otros tipos de tests** y explica en tus propias palabras qué uso tienen y en qué consisten."
   ]
  },
  {
   "cell_type": "markdown",
   "metadata": {},
   "source": [
    "1. End to end.\n",
    "Es una metodologia de testing de software que testea el flujo de la aplicación o programa desde el principio hasta el fin. El proposito de esta metodologia es simular un escenario real y validar el sistema mediante los test\n",
    "\n",
    "2. De regresión.\n",
    "Cualquier tipo de pruebas de testing cuyo objetico es descubrir errores, carencias y divergencias funcionales con respecto al comportamiento que se espera que tenga el software \n",
    "\n",
    "3. De integración.\n",
    "Estos llevan a cabo la revisión conjunta de los diferentes elementos que estan presentes en el software. Se llevan a cabo despues de los test unitarios, cuando no existe ningún problema con estos. Se busca asegurarse que no se produce ningún tipo de problema en la combinación de los mismos."
   ]
  },
  {
   "cell_type": "markdown",
   "metadata": {},
   "source": [
    "### Pregunta teórica 4\n",
    "\n",
    "¿Es posible hacer pruebas cuando utilizamos y capturamos objetos *Exception* en nuestro código? Si es así, explica cómo y pon como mínimo 2 ejemplos que se puedan ejecutar:"
   ]
  },
  {
   "cell_type": "code",
   "execution_count": 6,
   "metadata": {},
   "outputs": [],
   "source": [
    "'''Si se pueden, vamos a poner un par de ejemplos sencillos'''\n",
    "\n",
    "def suma(a, b):\n",
    "               #Escribimos una breve explicación de los resultados que dara el test\n",
    "               #Esbribimos algunas llamadas a la funcion con la respuesta esperada en los test\n",
    "               #En el ultimo test vamos a capturar la excepción\n",
    "    '''\n",
    "    La función suma() recibe dos argumentos y devuelve la suma de ambos:      \n",
    "    \n",
    "    >>> suma(2,3)\n",
    "    5\n",
    "    >>> suma(5,10)\n",
    "    15\n",
    "    >>> suma(12,3)\n",
    "    15\n",
    "    \n",
    "    No podemos sumar elementos de tipos diferentes:\n",
    "    \n",
    "    >>> suma(1,\"aa\")\n",
    "    Traceback (most recent call last):\n",
    "        ...\n",
    "    TypeError: unsupported operand type(s) for +: 'int' and 'str'\n",
    "    '''\n",
    "    #tenemos que indicar en el test la excepcion que obtenemos\n",
    "\n",
    "    return a + b\n",
    "\n",
    "\n",
    "if __name__ == '__main__':\n",
    "    import doctest\n",
    "    doctest.testmod()\n"
   ]
  },
  {
   "cell_type": "code",
   "execution_count": 11,
   "metadata": {},
   "outputs": [],
   "source": [
    "#Segundo ejemplo\n",
    "\n",
    "def error():\n",
    "    \"\"\"Esta funcion siempre da error.\n",
    "\n",
    "    >>> error()\n",
    "    Traceback (most recent call last):\n",
    "    RuntimeError: Aqui esta el error\n",
    "    \"\"\"\n",
    "    raise RuntimeError('Aqui esta el error')\n",
    "    #asi cazamos la excepción\n",
    "\n",
    "if __name__ == '__main__':\n",
    "    import doctest\n",
    "    doctest.testmod()\n"
   ]
  },
  {
   "cell_type": "markdown",
   "metadata": {},
   "source": [
    "\n",
    "### Ejercicio 1\n",
    "\n",
    "**Hablamos de tests en verde cuando todos nuestros tests se ejecutan correctamente y dan el resultado esperado y tests en rojo en caso contrario.**\n",
    "\n",
    "En el siguiente ejercicio, escribe el código necesario que haga cumplir todos los tests, es decir, que los tests estén *en verde*."
   ]
  },
  {
   "cell_type": "code",
   "execution_count": 6,
   "metadata": {},
   "outputs": [
    {
     "name": "stderr",
     "output_type": "stream",
     "text": [
      "....\n",
      "----------------------------------------------------------------------\n",
      "Ran 4 tests in 0.013s\n",
      "\n",
      "OK\n"
     ]
    }
   ],
   "source": [
    "import unittest\n",
    "import sys\n",
    "\n",
    "\n",
    "class Fraccion(object):\n",
    "    \"\"\"Clase que representa una fracción matemática\"\"\"\n",
    "    \n",
    "    def __init__(self, numerador, denominador):\n",
    "        \"\"\"Inicializa el objeto fracción\"\"\"\n",
    "        self.numerador = numerador          #tenemos que asignar self. numerador y self.denominador\n",
    "        self.denominador = denominador\n",
    "        pass\n",
    "    \n",
    "    def get_numerador(self):\n",
    "        \"\"\"Retorna el numerador de la fracción\"\"\"\n",
    "        return self.numerador\n",
    "    \n",
    "    def get_denominador(self):\n",
    "        \"\"\"Retorna el denominador de la fracción\"\"\"\n",
    "        return self.denominador\n",
    "        pass\n",
    "    \n",
    "    def multiplica(self, other):\n",
    "        \"\"\"Devuelve la multiplicación de fracciones\"\"\"\n",
    "        return Fraccion(self.numerador * other.numerador,self.denominador * other.denominador)  #si llamamos() a la funcion no funcionara bien\n",
    "    \n",
    "\n",
    "class TestFraccion(unittest.TestCase):\n",
    "\n",
    "    def test_crear_fraccion(self):\n",
    "        f = Fraccion(1, 2)\n",
    "        self.assertIsNotNone(f)\n",
    "        \n",
    "    def test_numerador(self):\n",
    "        f = Fraccion(1, 2)\n",
    "        self.assertEqual(f.get_numerador(), 1)\n",
    "        \n",
    "    def test_denominador(self):\n",
    "        f = Fraccion(2, 4)\n",
    "        self.assertEqual(f.get_denominador(), 4)\n",
    "    \n",
    "    def test_multiplicacion_fracciones(self):\n",
    "        f1 = Fraccion(1, 2)\n",
    "        f2 = Fraccion(2, 5)\n",
    "        \n",
    "        f3 = f1.multiplica(f2)\n",
    "        \n",
    "        self.assertEqual(f3.get_numerador(), 2)\n",
    "        self.assertEqual(f3.get_denominador(), 10)\n",
    "\n",
    "        \n",
    "if __name__ == '__main__':\n",
    "    suite = unittest.TestLoader().loadTestsFromTestCase( TestFraccion )\n",
    "    unittest.TextTestRunner(verbosity=1,stream=sys.stderr).run( suite )"
   ]
  },
  {
   "cell_type": "markdown",
   "metadata": {},
   "source": [
    "### Ejercicio 2\n",
    "\n",
    "Escribe una función cualquiera y escribe algunas pruebas de código utilizando ***doctest***:"
   ]
  },
  {
   "cell_type": "code",
   "execution_count": 14,
   "metadata": {},
   "outputs": [
    {
     "name": "stdout",
     "output_type": "stream",
     "text": [
      "**********************************************************************\n",
      "File \"__main__\", line 17, in __main__.impar\n",
      "Failed example:\n",
      "    impar(a)\n",
      "Exception raised:\n",
      "    Traceback (most recent call last):\n",
      "      File \"/home/lsudupe/miniconda3/lib/python3.8/doctest.py\", line 1336, in __run\n",
      "        exec(compile(example.source, filename, \"single\",\n",
      "      File \"<doctest __main__.impar[4]>\", line 1, in <module>\n",
      "        impar(a)\n",
      "    NameError: name 'a' is not defined\n",
      "**********************************************************************\n",
      "1 items had failures:\n",
      "   1 of   5 in __main__.impar\n",
      "***Test Failed*** 1 failures.\n"
     ]
    }
   ],
   "source": [
    "#Definimos una función sencilla y le esbribimos los test\n",
    "\n",
    "\n",
    "def par(n):\n",
    "               #Escribimos una breve explicación de los resultados que dara el test\n",
    "               #Esbribimos algunas llamadas a la funcion con la respuesta esperada en los test\n",
    "    '''\n",
    "    La función par() devuelve:      \n",
    "    - True: si número es par\n",
    "    - False: si número no es par\n",
    "    >>> par(0)     \n",
    "    True\n",
    "    >>> par(1)\n",
    "    False\n",
    "    >>> par(2)\n",
    "    True\n",
    "    >>> par(3)\n",
    "    False\n",
    "    >>> par(8)\n",
    "    True\n",
    "    '''\n",
    "    if n%2 == 0:        #completamos la función como una función normal que nos devuelve si el argumento es par True y si es impar False\n",
    "        return True\n",
    "    else:\n",
    "        return False\n",
    "\n",
    "if __name__ == '__main__':\n",
    "    import doctest\n",
    "    doctest.testmod()"
   ]
  },
  {
   "cell_type": "markdown",
   "metadata": {},
   "source": [
    "### Ejercicio 3\n",
    "\n",
    "Los cuaterniones (en Inglés *quaternion*) son un tipo matemático que funcionan como extensión de los vectores en espacio 3D añadiendo una dimensión extra, muy utilizados en videojuegos para aplicar rotaciones sobre un conjunto de puntos y que tienen claras ventajas en comparación con las matrices de rotación. Podéis aprender más sobre ellos en la [Wikipedia](https://es.wikipedia.org/wiki/Cuaterni%C3%B3n).\n",
    "\n",
    "A continuación tenéis el código de una clase *Quaternion* que implementa algunas funciones sencillas (suma y resta). Escribid tantos tests como consideréis para conseguir una buena cobertura de código:\n",
    "\n",
    "**Nota: no utilizaremos la versión `q1.__add__(q2)` si no `q1 + q2`.**"
   ]
  },
  {
   "cell_type": "code",
   "execution_count": 12,
   "metadata": {},
   "outputs": [
    {
     "name": "stderr",
     "output_type": "stream",
     "text": [
      "....\n",
      "----------------------------------------------------------------------\n",
      "Ran 4 tests in 0.013s\n",
      "\n",
      "OK\n"
     ]
    }
   ],
   "source": [
    "import unittest\n",
    "import sys\n",
    "\n",
    "\n",
    "class Quaternion:\n",
    "\n",
    "    def __init__(self, w=1., x=0., y=0., z=0.):\n",
    "        \"\"\"Crea un cuaternión. Devuelve por defecto el cuaternión unitario.\"\"\"\n",
    "        self.w = w\n",
    "        self.x = x\n",
    "        self.y = y\n",
    "        self.z = z\n",
    "\n",
    "    def __neg__(self):\n",
    "        \"\"\"Negación de un cuaternión. \n",
    "        \n",
    "        Se llama: q2 = -q1\n",
    "        \"\"\"\n",
    "        return Quaternion(-self.w, -self.x, -self.y, -self.z)\n",
    "\n",
    "    def __add__(self, other):\n",
    "        \"\"\"Implementa la suma de cuaterniones. \n",
    "        \n",
    "        Ejemplo: \n",
    "        q1 = Quaternion()\n",
    "        q2 = Quaternion()\n",
    "        \n",
    "        q3 = q1 + q2\n",
    "        \n",
    "        \"\"\"\n",
    "        return Quaternion(self.w+other.w, self.x+other.x, self.y+other.y, self.z+other.z)\n",
    "\n",
    "    def __sub__(self, other):\n",
    "        \"\"\"Implementa la resta de cuaterniones.\"\"\"\n",
    "        return Quaternion(self.w-other.w, self.x-other.x, self.y-other.y, self.z-other.z)\n",
    "    \n",
    "'''Entiendo el funcionamiento de unittest, y en el ejercicio 2 he podido hacerlo por mi misma, en este en cambio he copiado el codigo desde \n",
    "\"https://github.com/lucasb-eyer/pyglm/blob/master/tests/quaternion.py\" y he ido entendendiendolo'''\n",
    "\n",
    "\n",
    "\n",
    "#Una vez que tenemos las funciones, tenemos que crear la clase de test e ir escribiendo un test por función minimo para que nuestro codigo\n",
    "#tenga una cobertura digna\n",
    "class TestQuaternion(unittest.TestCase):\n",
    "    \n",
    "    def test_crear_cuaternion(self):\n",
    "        q = Quaternion()\n",
    "        self.assertEqual(q.w, 1.0)\n",
    "        self.assertEqual(q.x, 0.0)\n",
    "        self.assertEqual(q.y, 0.0)\n",
    "        self.assertEqual(q.z, 0.0)\n",
    "        \n",
    "    def test_neg(self):\n",
    "        q = Quaternion(1, 0, 2, -1)\n",
    "        nq = -q\n",
    "        self.assertAlmostEqual(nq.x, -q.x, 6)\n",
    "        self.assertAlmostEqual(nq.y, -q.y, 6)\n",
    "        self.assertAlmostEqual(nq.z, -q.z, 6)\n",
    "        self.assertAlmostEqual(nq.w, -q.w, 6)\n",
    "        \n",
    "    def test_add(self):\n",
    "        q1 = Quaternion(1, 2, 3, 4)\n",
    "        q2 = Quaternion(0.1, 0.2, 0.3, 0.4)\n",
    "        q12 = q1 + q2\n",
    "        self.assertAlmostEqual(q12.x, q1.x + q2.x, 6)\n",
    "        self.assertAlmostEqual(q12.y, q1.y + q2.y, 6)\n",
    "        self.assertAlmostEqual(q12.z, q1.z + q2.z, 6)\n",
    "        self.assertAlmostEqual(q12.w, q1.w + q2.w, 6)\n",
    "        \n",
    "    def test_sub(self):\n",
    "        q1 = Quaternion(1, 2, 3, 4)\n",
    "        q2 = Quaternion(0.1, 0.2, 0.3, 0.4)\n",
    "        q12 = q1 - q2\n",
    "        self.assertAlmostEqual(q12.x, q1.x - q2.x, 6)\n",
    "        self.assertAlmostEqual(q12.y, q1.y - q2.y, 6)\n",
    "        self.assertAlmostEqual(q12.z, q1.z - q2.z, 6)\n",
    "        self.assertAlmostEqual(q12.w, q1.w - q2.w, 6)\n",
    "    \n",
    "\n",
    "if __name__ == '__main__':\n",
    "    suite = unittest.TestLoader().loadTestsFromTestCase( TestQuaternion )\n",
    "    unittest.TextTestRunner(verbosity=1,stream=sys.stderr).run( suite )"
   ]
  }
 ],
 "metadata": {
  "kernelspec": {
   "display_name": "Python 3",
   "language": "python",
   "name": "python3"
  },
  "language_info": {
   "codemirror_mode": {
    "name": "ipython",
    "version": 3
   },
   "file_extension": ".py",
   "mimetype": "text/x-python",
   "name": "python",
   "nbconvert_exporter": "python",
   "pygments_lexer": "ipython3",
   "version": "3.8.5"
  }
 },
 "nbformat": 4,
 "nbformat_minor": 2
}
