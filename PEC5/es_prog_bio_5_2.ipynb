{
 "cells": [
  {
   "cell_type": "markdown",
   "metadata": {},
   "source": [
    "# Programación para la Bioinformática"
   ]
  },
  {
   "cell_type": "markdown",
   "metadata": {},
   "source": [
    "Unidad 5: ADN, ARN, secuencias y motivos (Parte 2)\n",
    "--------------------------------------------------\n",
    "\n",
    "### Instrucciones de uso\n",
    "A continuación se presentará la teoría y algún ejemplo de algoritmo genético. Recordad que podéis ir ejecutando los ejemplos para obtener sus resultados."
   ]
  },
  {
   "cell_type": "markdown",
   "metadata": {},
   "source": [
    "### Algoritmos inspirados en la naturaleza\n",
    "Existe una categoría de algoritmos que utilizan conceptos basados o inspirados en la naturaleza estableciendo una metáfora que los hace más comprensibles para los humanos. Muy populares en algoritmos de inteligencia artificial, empezaron a aparecer en la década de los 70 del siglo pasado y en la última década han explotado hasta convertirse en métodos casi estándares.\n",
    "\n",
    "Una familia de algoritmos de inteligencia artificial inspirados en la naturaleza muy populares son los **algoritmos genéticos**. Los algoritmos genéticos utilizan conceptos de la genética, como son las mutaciones, los mecanismos de selección o los cruces. Los algoritmos genéticos se utilizan con el objetivo de optimizar valores de una función cualquiera en su espacio de valores. El funcionamiento básico del algoritmo está descrito en la siguiente figura (fuente Wikipedia - https://es.wikipedia.org/wiki/Algoritmo_gen%C3%A9tico):\n",
    "\n",
    "<img src=\"files/media/alg_genetico.png\">\n",
    "\n",
    "* **Inicialización** (I). Se genera aleatoriamente una población inicial, constituida por un conjunto de cromosomas (o también llamados genes) que representan posibles soluciones del problema. Esta población deberá tener una diversidad inicial lo suficientemente rica para garantizar que el algoritmo no converja de forma prematura en soluciones no óptimas.\n",
    "* **Evaluación** (?). Para cada uno de los cromosomas, lo evaluaremos en el espacio de búsqueda (aplicaremos la función que deseamos optimizar) y después calcularemos la distancia a la solución que queremos obtener. Esta solución objetivo es muy importante y está codificada en la función de *fitness* que dirigirá la evolución hacia esa solución óptima (podemos conocerla o no, en este segundo caso, la expresaremos en forma de función: cuán rápido es un coche, cuál es la cantidad monetaria más grande, etc.). Deberemos, además, definir las condiciones de parada del algoritmo para no entrar en bucle infinito: o bien acotando el número de pasos del algoritmo o bien cuando en la población ya no haya cambios. \n",
    "* **Selección** (Se). Si no se ha dado la condición de parada, se procede a elegir los cromosomas que serán cruzados en la siguiente generación, para ello, seleccionaremos los mejores cromosomas ordenándolos por su aptitud.\n",
    "* **Cruce** (Cr). Representa en esta metáfora la reproducción sexual y opera sobre dos cromosomas a la vez para generar dos descendientes donde se combinan las características de ambos cromosomas padres.\n",
    "* **Mutación** (Mu). Modifica de forma aleatoria parte del cromosoma de los individuos de la población para añadir diversidad y poder salir de pozos locales en el espacio de búsqueda.\n",
    "* **Reemplazo** (Re). Una vez aplicados los operadores genéticos, se seleccionan los mejores individuos para conformar la población de la generación siguiente y continuar con otro paso de la simulación."
   ]
  },
  {
   "cell_type": "markdown",
   "metadata": {},
   "source": [
    "### Ejercicio 1\n",
    "El siguiente código es una implementación de un algoritmo genético que optimiza la búsqueda de un string, es decir, dado un string **objetivo**, intentad encontrar esa cadena empezando desde diversas cadenas con caracteres aleatorios."
   ]
  },
  {
   "cell_type": "code",
   "execution_count": 10,
   "metadata": {},
   "outputs": [
    {
     "name": "stdout",
     "output_type": "stream",
     "text": [
      "Pasos de simulación: 575\n",
      "\n",
      "  Fitness         ADN\n",
      "------------------------\n",
      "     0          python\n",
      "     1          oython\n",
      "     1          oython\n",
      "     1          pzthon\n",
      "     1          oython\n",
      "     1          oython\n",
      "     1          oython\n",
      "     2          ozthon\n",
      "     2          pxthom\n",
      "     2          oxthon\n",
      "     2          oxthon\n",
      "     2          pxthom\n",
      "     2          oythpn\n",
      "     2          ozthon\n",
      "     2          pxthoo\n",
      "     2          oytgon\n",
      "     2          oyshon\n",
      "     2          qzthon\n",
      "     2          oyshon\n",
      "     2          oythpn\n",
      "\n"
     ]
    }
   ],
   "source": [
    "import random\n",
    "import string\n",
    "\n",
    "\n",
    "objetivo = \"python\"\n",
    "\n",
    "\n",
    "GENES = 20\n",
    "MAX_GENERACION = 600\n",
    "\n",
    "\n",
    "class Individuo(object):\n",
    "    def __init__(self, adn, fitness):\n",
    "        self.adn = adn\n",
    "        self.fitness = fitness\n",
    "\n",
    "\n",
    "def calcular_fitness(origen, valor_objetivo):\n",
    "    fitness = 0\n",
    "    for i in range(0, len(origen)):\n",
    "        fitness += (ord(valor_objetivo[i]) - ord(origen[i])) ** 2\n",
    "    return fitness\n",
    "\n",
    "\n",
    "def mutacion(padre1, padre2):\n",
    "    adn_hijo = padre1.adn[:]\n",
    "\n",
    "    start = random.randint(0, len(padre2.adn) - 1)\n",
    "    stop = random.randint(0, len(padre2.adn) - 1)\n",
    "    if start > stop:\n",
    "        stop, start = start, stop\n",
    "\n",
    "    adn_hijo[start:stop] = padre2.adn[start:stop]\n",
    "\n",
    "    posicion = random.randint(0, len(adn_hijo) - 1)\n",
    "    adn_hijo[posicion] = chr(ord(adn_hijo[posicion]) + random.randint(-1, 1))\n",
    "    fitness_hijo = calcular_fitness(adn_hijo, objetivo)\n",
    "    return Individuo(adn_hijo, fitness_hijo)\n",
    "\n",
    "\n",
    "def padre_al_azar(poblacion):\n",
    "    return poblacion[int(random.random() * random.random() * (GENES - 1))]\n",
    "\n",
    "\n",
    "def escribe_generacion(generacion, poblacion):\n",
    "    print('Pasos de simulación: %d' % generacion)\n",
    "    print()\n",
    "    print('  Fitness         ADN')\n",
    "    print('------------------------')\n",
    "    for candidato in poblacion:\n",
    "        print(\"%6i %15s\" % (candidato.fitness, ''.join(candidato.adn)))\n",
    "    print()\n",
    "\n",
    "\n",
    "def inicializa_poblacion():\n",
    "    poblacion = []\n",
    "    for i in range(0, GENES):\n",
    "        adn = [random.choice(string.printable[:-5]) for _ in range(0, len(objetivo))]\n",
    "        fitness = calcular_fitness(adn, objetivo)\n",
    "        candidate = Individuo(adn, fitness)\n",
    "        poblacion.append(candidate)\n",
    "    return poblacion\n",
    "\n",
    "\n",
    "def simulacion():\n",
    "    poblacion = inicializa_poblacion()\n",
    "    generacion = 0\n",
    "    while True and generacion < MAX_GENERACION:\n",
    "        generacion += 1\n",
    "        poblacion.sort(key=lambda candidate: candidate.fitness)\n",
    "\n",
    "        if poblacion[0].fitness == 0:\n",
    "            break\n",
    "\n",
    "        padre1 = padre_al_azar(poblacion)\n",
    "        padre2 = padre_al_azar(poblacion)\n",
    "\n",
    "        hijo = mutacion(padre1, padre2)\n",
    "        if hijo.fitness < poblacion[-1].fitness:\n",
    "            poblacion[-1] = hijo\n",
    "\n",
    "    if generacion == MAX_GENERACION:\n",
    "        print(u'Se ha alcanzado el máximo de generaciones')\n",
    "    escribe_generacion(generacion, poblacion)\n",
    "\n",
    "\n",
    "simulacion()"
   ]
  },
  {
   "cell_type": "markdown",
   "metadata": {},
   "source": [
    "Es muy importante, tanto en bioinformática como en programación en general, leer e interpretar código de otros programadores. Por ello, en este ejercicio se os pide que comentéis el código anterior con comentarios en el propio código que expliquen las partes más importantes de este."
   ]
  },
  {
   "cell_type": "markdown",
   "metadata": {},
   "source": [
    "### Ejercicio 2\n",
    "\n",
    "Escribe una función de fitness alternativa. Recuerda que fitness=0 indica que la cadena objetivo se ha conseguido. Explica en qué consiste tu función de fitness."
   ]
  },
  {
   "cell_type": "code",
   "execution_count": 11,
   "metadata": {},
   "outputs": [],
   "source": [
    "# Respuesta"
   ]
  },
  {
   "cell_type": "markdown",
   "metadata": {},
   "source": [
    "### Ejercicio 3\n",
    "\n",
    "Representa utilizando matplotlib el máximo fitness, el mínimo y la media por paso de la simulación en un gráfico:"
   ]
  },
  {
   "cell_type": "code",
   "execution_count": 12,
   "metadata": {},
   "outputs": [],
   "source": [
    "%matplotlib inline\n",
    "\n",
    "# Respuesta"
   ]
  }
 ],
 "metadata": {
  "kernelspec": {
   "display_name": "Python 3",
   "language": "python",
   "name": "python3"
  },
  "language_info": {
   "codemirror_mode": {
    "name": "ipython",
    "version": 3
   },
   "file_extension": ".py",
   "mimetype": "text/x-python",
   "name": "python",
   "nbconvert_exporter": "python",
   "pygments_lexer": "ipython3",
   "version": "3.6.5"
  }
 },
 "nbformat": 4,
 "nbformat_minor": 1
}
